{
 "cells": [
  {
   "cell_type": "markdown",
   "id": "3b0f5f96",
   "metadata": {},
   "source": [
    "# PCA & K Means Clustering"
   ]
  },
  {
   "cell_type": "markdown",
   "id": "fcace71e",
   "metadata": {},
   "source": [
    "## Load libraries and dataset"
   ]
  },
  {
   "cell_type": "code",
   "execution_count": 92,
   "id": "92c518a9",
   "metadata": {},
   "outputs": [],
   "source": [
    "# Load libraries\n",
    "import pandas as pd\n",
    "from sklearn.preprocessing import StandardScaler\n",
    "from sklearn.metrics import silhouette_score\n",
    "from sklearn.cluster import KMeans\n",
    "from matplotlib import pyplot as plt\n",
    "from sklearn.decomposition import PCA"
   ]
  },
  {
   "cell_type": "code",
   "execution_count": 15,
   "id": "32dc2ae5",
   "metadata": {},
   "outputs": [
    {
     "data": {
      "text/html": [
       "<div>\n",
       "<style scoped>\n",
       "    .dataframe tbody tr th:only-of-type {\n",
       "        vertical-align: middle;\n",
       "    }\n",
       "\n",
       "    .dataframe tbody tr th {\n",
       "        vertical-align: top;\n",
       "    }\n",
       "\n",
       "    .dataframe thead th {\n",
       "        text-align: right;\n",
       "    }\n",
       "</style>\n",
       "<table border=\"1\" class=\"dataframe\">\n",
       "  <thead>\n",
       "    <tr style=\"text-align: right;\">\n",
       "      <th></th>\n",
       "      <th>ID</th>\n",
       "      <th>Age_mean</th>\n",
       "      <th>Albumin_max</th>\n",
       "      <th>Albumin_median</th>\n",
       "      <th>Albumin_min</th>\n",
       "      <th>Albumin_range</th>\n",
       "      <th>ALSFRS_slope</th>\n",
       "      <th>ALSFRS_Total_max</th>\n",
       "      <th>ALSFRS_Total_median</th>\n",
       "      <th>ALSFRS_Total_min</th>\n",
       "      <th>...</th>\n",
       "      <th>Sodium_min</th>\n",
       "      <th>Sodium_range</th>\n",
       "      <th>SubjectID</th>\n",
       "      <th>trunk_max</th>\n",
       "      <th>trunk_median</th>\n",
       "      <th>trunk_min</th>\n",
       "      <th>trunk_range</th>\n",
       "      <th>Urine.Ph_max</th>\n",
       "      <th>Urine.Ph_median</th>\n",
       "      <th>Urine.Ph_min</th>\n",
       "    </tr>\n",
       "  </thead>\n",
       "  <tbody>\n",
       "    <tr>\n",
       "      <th>0</th>\n",
       "      <td>1</td>\n",
       "      <td>65</td>\n",
       "      <td>57.0</td>\n",
       "      <td>40.5</td>\n",
       "      <td>38.0</td>\n",
       "      <td>0.066202</td>\n",
       "      <td>-0.965608</td>\n",
       "      <td>30</td>\n",
       "      <td>28.0</td>\n",
       "      <td>22</td>\n",
       "      <td>...</td>\n",
       "      <td>143.0</td>\n",
       "      <td>0.017422</td>\n",
       "      <td>533</td>\n",
       "      <td>8</td>\n",
       "      <td>7.0</td>\n",
       "      <td>7</td>\n",
       "      <td>0.002646</td>\n",
       "      <td>6.0</td>\n",
       "      <td>6.0</td>\n",
       "      <td>6.0</td>\n",
       "    </tr>\n",
       "    <tr>\n",
       "      <th>1</th>\n",
       "      <td>2</td>\n",
       "      <td>48</td>\n",
       "      <td>45.0</td>\n",
       "      <td>41.0</td>\n",
       "      <td>39.0</td>\n",
       "      <td>0.010453</td>\n",
       "      <td>-0.921717</td>\n",
       "      <td>37</td>\n",
       "      <td>33.0</td>\n",
       "      <td>21</td>\n",
       "      <td>...</td>\n",
       "      <td>136.0</td>\n",
       "      <td>0.010453</td>\n",
       "      <td>649</td>\n",
       "      <td>8</td>\n",
       "      <td>7.0</td>\n",
       "      <td>5</td>\n",
       "      <td>0.005386</td>\n",
       "      <td>7.0</td>\n",
       "      <td>5.0</td>\n",
       "      <td>5.0</td>\n",
       "    </tr>\n",
       "    <tr>\n",
       "      <th>2</th>\n",
       "      <td>3</td>\n",
       "      <td>38</td>\n",
       "      <td>50.0</td>\n",
       "      <td>47.0</td>\n",
       "      <td>45.0</td>\n",
       "      <td>0.008929</td>\n",
       "      <td>-0.914787</td>\n",
       "      <td>24</td>\n",
       "      <td>14.0</td>\n",
       "      <td>10</td>\n",
       "      <td>...</td>\n",
       "      <td>140.0</td>\n",
       "      <td>0.008929</td>\n",
       "      <td>1234</td>\n",
       "      <td>5</td>\n",
       "      <td>0.0</td>\n",
       "      <td>0</td>\n",
       "      <td>0.008929</td>\n",
       "      <td>6.0</td>\n",
       "      <td>5.0</td>\n",
       "      <td>5.0</td>\n",
       "    </tr>\n",
       "    <tr>\n",
       "      <th>3</th>\n",
       "      <td>4</td>\n",
       "      <td>63</td>\n",
       "      <td>47.0</td>\n",
       "      <td>44.0</td>\n",
       "      <td>41.0</td>\n",
       "      <td>0.012111</td>\n",
       "      <td>-0.598361</td>\n",
       "      <td>30</td>\n",
       "      <td>29.0</td>\n",
       "      <td>24</td>\n",
       "      <td>...</td>\n",
       "      <td>138.0</td>\n",
       "      <td>0.012469</td>\n",
       "      <td>2492</td>\n",
       "      <td>5</td>\n",
       "      <td>5.0</td>\n",
       "      <td>3</td>\n",
       "      <td>0.004988</td>\n",
       "      <td>7.0</td>\n",
       "      <td>6.0</td>\n",
       "      <td>5.0</td>\n",
       "    </tr>\n",
       "    <tr>\n",
       "      <th>4</th>\n",
       "      <td>5</td>\n",
       "      <td>63</td>\n",
       "      <td>47.0</td>\n",
       "      <td>45.5</td>\n",
       "      <td>42.0</td>\n",
       "      <td>0.008292</td>\n",
       "      <td>-0.444039</td>\n",
       "      <td>32</td>\n",
       "      <td>27.5</td>\n",
       "      <td>20</td>\n",
       "      <td>...</td>\n",
       "      <td>138.0</td>\n",
       "      <td>0.008292</td>\n",
       "      <td>2956</td>\n",
       "      <td>6</td>\n",
       "      <td>4.0</td>\n",
       "      <td>1</td>\n",
       "      <td>0.008489</td>\n",
       "      <td>6.0</td>\n",
       "      <td>5.0</td>\n",
       "      <td>5.0</td>\n",
       "    </tr>\n",
       "  </tbody>\n",
       "</table>\n",
       "<p>5 rows × 101 columns</p>\n",
       "</div>"
      ],
      "text/plain": [
       "   ID  Age_mean  Albumin_max  Albumin_median  Albumin_min  Albumin_range  \\\n",
       "0   1        65         57.0            40.5         38.0       0.066202   \n",
       "1   2        48         45.0            41.0         39.0       0.010453   \n",
       "2   3        38         50.0            47.0         45.0       0.008929   \n",
       "3   4        63         47.0            44.0         41.0       0.012111   \n",
       "4   5        63         47.0            45.5         42.0       0.008292   \n",
       "\n",
       "   ALSFRS_slope  ALSFRS_Total_max  ALSFRS_Total_median  ALSFRS_Total_min  ...  \\\n",
       "0     -0.965608                30                 28.0                22  ...   \n",
       "1     -0.921717                37                 33.0                21  ...   \n",
       "2     -0.914787                24                 14.0                10  ...   \n",
       "3     -0.598361                30                 29.0                24  ...   \n",
       "4     -0.444039                32                 27.5                20  ...   \n",
       "\n",
       "   Sodium_min  Sodium_range  SubjectID  trunk_max  trunk_median  trunk_min  \\\n",
       "0       143.0      0.017422        533          8           7.0          7   \n",
       "1       136.0      0.010453        649          8           7.0          5   \n",
       "2       140.0      0.008929       1234          5           0.0          0   \n",
       "3       138.0      0.012469       2492          5           5.0          3   \n",
       "4       138.0      0.008292       2956          6           4.0          1   \n",
       "\n",
       "   trunk_range  Urine.Ph_max  Urine.Ph_median  Urine.Ph_min  \n",
       "0     0.002646           6.0              6.0           6.0  \n",
       "1     0.005386           7.0              5.0           5.0  \n",
       "2     0.008929           6.0              5.0           5.0  \n",
       "3     0.004988           7.0              6.0           5.0  \n",
       "4     0.008489           6.0              5.0           5.0  \n",
       "\n",
       "[5 rows x 101 columns]"
      ]
     },
     "execution_count": 15,
     "metadata": {},
     "output_type": "execute_result"
    }
   ],
   "source": [
    "# Load dataset\n",
    "df = pd.read_csv(r'Data/als_data.csv')\n",
    "\n",
    "# View the dataframe\n",
    "df.head(5)"
   ]
  },
  {
   "cell_type": "markdown",
   "id": "95ed5e10",
   "metadata": {},
   "source": [
    "# 1. Remove any data that is not relevant ot the patient's ALS condition."
   ]
  },
  {
   "cell_type": "code",
   "execution_count": 16,
   "id": "a3b74388",
   "metadata": {},
   "outputs": [],
   "source": [
    "# Drop the ID & subject id columns\n",
    "df = df.drop(['ID', 'SubjectID'], axis=1)"
   ]
  },
  {
   "cell_type": "markdown",
   "id": "5be26f2e",
   "metadata": {},
   "source": [
    "# 2. Apply a standard scaler to the data."
   ]
  },
  {
   "cell_type": "code",
   "execution_count": 18,
   "id": "087ccfa6",
   "metadata": {},
   "outputs": [],
   "source": [
    "# Create standardizer\n",
    "standardizer = StandardScaler()"
   ]
  },
  {
   "cell_type": "code",
   "execution_count": 19,
   "id": "c456c2f6",
   "metadata": {},
   "outputs": [],
   "source": [
    "# Standardize data\n",
    "df_s = standardizer.fit_transform(df)"
   ]
  },
  {
   "cell_type": "markdown",
   "id": "02e8c3b6",
   "metadata": {},
   "source": [
    "# 3. Create a plot of the cluster silhouette score versus the number of clusters in a K-means cluster."
   ]
  },
  {
   "cell_type": "code",
   "execution_count": 75,
   "id": "0d22b24c",
   "metadata": {},
   "outputs": [],
   "source": [
    "# Create lists to store clusters\n",
    "clusters = []\n",
    "inertia_vals = []\n",
    "\n",
    "# Create clusters\n",
    "for k in (2, 3, 4, 5, 6, 7, 8, 9, 10, 11, 12, 13, 14, 15, 16, 17, 18, 19, 20):\n",
    "    model = KMeans(n_clusters=k, random_state=7)\n",
    "    model.fit(df_s)\n",
    "    \n",
    "    # Add model to list\n",
    "    clusters.append(model)\n",
    "    inertia_vals.append(model.inertia_)"
   ]
  },
  {
   "cell_type": "code",
   "execution_count": 86,
   "id": "99243ac8",
   "metadata": {},
   "outputs": [],
   "source": [
    "# Create an empty dataframe for silhouette counts\n",
    "sil_df = pd.DataFrame(columns=['Clusters', 'Silhouette Score'])"
   ]
  },
  {
   "cell_type": "code",
   "execution_count": 88,
   "id": "7489352c",
   "metadata": {},
   "outputs": [],
   "source": [
    "# Append sil_df with silhouette scores\n",
    "for c in (0, 1, 2, 3, 4, 5, 6, 7, 8, 9, 10, 11, 12, 13, 14, 15, 16, 17, 18):\n",
    "    s = silhouette_score(df_s,clusters[c].predict(df_s),metric='euclidean')\n",
    "    clus = clusters[c].n_clusters\n",
    "    sil_df = sil_df.append({'Clusters' : clus, 'Silhouette Score' : s}, ignore_index=True)"
   ]
  },
  {
   "cell_type": "code",
   "execution_count": 89,
   "id": "83cb7b3f",
   "metadata": {},
   "outputs": [
    {
     "data": {
      "image/png": "[encoded data removed]",
      "text/plain": [
       "<Figure size 432x288 with 1 Axes>"
      ]
     },
     "metadata": {
      "needs_background": "light"
     },
     "output_type": "display_data"
    }
   ],
   "source": [
    "# Create a scatter plot of Clusters vs Silhouette Score\n",
    "fig=plt.figure()\n",
    "ax=fig.add_axes([0, 0, 1, 1])\n",
    "ax.scatter(sil_df['Clusters'], sil_df['Silhouette Score'], color='b')\n",
    "ax.set_xlabel('Clusters')\n",
    "ax.set_ylabel('Silhouette Score')\n",
    "ax.set_title('Number of Clusters vs Silhouette Score')\n",
    "plt.show()"
   ]
  },
  {
   "cell_type": "markdown",
   "id": "e1a0b243",
   "metadata": {},
   "source": [
    "# 4. Use the plot created in (3) to choose an optimal number of clusters for K-means. Justify your choice."
   ]
  },
  {
   "cell_type": "markdown",
   "id": "7b123405",
   "metadata": {},
   "source": [
    "The optimal number of clusters is 2 as it has the highest silhouette score"
   ]
  },
  {
   "cell_type": "markdown",
   "id": "b45d736b",
   "metadata": {},
   "source": [
    "# 5. Fit a K-means model to the data with the optimal number of clusters chosen in part (4)."
   ]
  },
  {
   "cell_type": "code",
   "execution_count": 90,
   "id": "e5977d5f",
   "metadata": {},
   "outputs": [
    {
     "data": {
      "text/plain": [
       "KMeans(n_clusters=2, random_state=7)"
      ]
     },
     "execution_count": 90,
     "metadata": {},
     "output_type": "execute_result"
    }
   ],
   "source": [
    "# Fit the model to the data with 2 clusters\n",
    "k_means_model = KMeans(n_clusters=2, random_state=7)\n",
    "k_means_model.fit(df_s)"
   ]
  },
  {
   "cell_type": "code",
   "execution_count": 102,
   "id": "bab2bc0b",
   "metadata": {},
   "outputs": [],
   "source": [
    "# Obtain the cluster labels\n",
    "label = k_means_model.fit_predict(df_s)"
   ]
  },
  {
   "cell_type": "markdown",
   "id": "edd1e31c",
   "metadata": {},
   "source": [
    "# 6. Fit a PCA transformation with two features to the scaled data."
   ]
  },
  {
   "cell_type": "code",
   "execution_count": 93,
   "id": "36dbfccf",
   "metadata": {},
   "outputs": [],
   "source": [
    "# Create a pca with 2 components\n",
    "pca = PCA(n_components=2)\n",
    "\n",
    "# Fit the PCA\n",
    "als_pca = pca.fit_transform(df_s)"
   ]
  },
  {
   "cell_type": "code",
   "execution_count": 100,
   "id": "550afbe4",
   "metadata": {},
   "outputs": [],
   "source": [
    "# Create a dataframe\n",
    "als_pca_df = pd.DataFrame(data=als_pca, columns = ['PC 1', 'PC 2'])"
   ]
  },
  {
   "cell_type": "code",
   "execution_count": 104,
   "id": "5f51022f",
   "metadata": {},
   "outputs": [],
   "source": [
    "# Add the cluster label to the dataframe\n",
    "als_pca_df['Cluster'] = label"
   ]
  },
  {
   "cell_type": "code",
   "execution_count": 105,
   "id": "b3f8575a",
   "metadata": {},
   "outputs": [
    {
     "data": {
      "text/html": [
       "<div>\n",
       "<style scoped>\n",
       "    .dataframe tbody tr th:only-of-type {\n",
       "        vertical-align: middle;\n",
       "    }\n",
       "\n",
       "    .dataframe tbody tr th {\n",
       "        vertical-align: top;\n",
       "    }\n",
       "\n",
       "    .dataframe thead th {\n",
       "        text-align: right;\n",
       "    }\n",
       "</style>\n",
       "<table border=\"1\" class=\"dataframe\">\n",
       "  <thead>\n",
       "    <tr style=\"text-align: right;\">\n",
       "      <th></th>\n",
       "      <th>PC 1</th>\n",
       "      <th>PC 2</th>\n",
       "      <th>Cluster</th>\n",
       "    </tr>\n",
       "  </thead>\n",
       "  <tbody>\n",
       "    <tr>\n",
       "      <th>0</th>\n",
       "      <td>-1.426709</td>\n",
       "      <td>-2.320416</td>\n",
       "      <td>0</td>\n",
       "    </tr>\n",
       "    <tr>\n",
       "      <th>1</th>\n",
       "      <td>-1.440259</td>\n",
       "      <td>-4.871003</td>\n",
       "      <td>0</td>\n",
       "    </tr>\n",
       "    <tr>\n",
       "      <th>2</th>\n",
       "      <td>1.617859</td>\n",
       "      <td>-0.429540</td>\n",
       "      <td>1</td>\n",
       "    </tr>\n",
       "    <tr>\n",
       "      <th>3</th>\n",
       "      <td>-1.919943</td>\n",
       "      <td>2.095288</td>\n",
       "      <td>0</td>\n",
       "    </tr>\n",
       "    <tr>\n",
       "      <th>4</th>\n",
       "      <td>0.297719</td>\n",
       "      <td>0.167356</td>\n",
       "      <td>1</td>\n",
       "    </tr>\n",
       "    <tr>\n",
       "      <th>...</th>\n",
       "      <td>...</td>\n",
       "      <td>...</td>\n",
       "      <td>...</td>\n",
       "    </tr>\n",
       "    <tr>\n",
       "      <th>2218</th>\n",
       "      <td>-4.477582</td>\n",
       "      <td>1.199746</td>\n",
       "      <td>0</td>\n",
       "    </tr>\n",
       "    <tr>\n",
       "      <th>2219</th>\n",
       "      <td>-0.399048</td>\n",
       "      <td>-1.875772</td>\n",
       "      <td>0</td>\n",
       "    </tr>\n",
       "    <tr>\n",
       "      <th>2220</th>\n",
       "      <td>-0.432847</td>\n",
       "      <td>4.245127</td>\n",
       "      <td>0</td>\n",
       "    </tr>\n",
       "    <tr>\n",
       "      <th>2221</th>\n",
       "      <td>-0.330734</td>\n",
       "      <td>3.317013</td>\n",
       "      <td>0</td>\n",
       "    </tr>\n",
       "    <tr>\n",
       "      <th>2222</th>\n",
       "      <td>1.467987</td>\n",
       "      <td>0.581435</td>\n",
       "      <td>1</td>\n",
       "    </tr>\n",
       "  </tbody>\n",
       "</table>\n",
       "<p>2223 rows × 3 columns</p>\n",
       "</div>"
      ],
      "text/plain": [
       "          PC 1      PC 2  Cluster\n",
       "0    -1.426709 -2.320416        0\n",
       "1    -1.440259 -4.871003        0\n",
       "2     1.617859 -0.429540        1\n",
       "3    -1.919943  2.095288        0\n",
       "4     0.297719  0.167356        1\n",
       "...        ...       ...      ...\n",
       "2218 -4.477582  1.199746        0\n",
       "2219 -0.399048 -1.875772        0\n",
       "2220 -0.432847  4.245127        0\n",
       "2221 -0.330734  3.317013        0\n",
       "2222  1.467987  0.581435        1\n",
       "\n",
       "[2223 rows x 3 columns]"
      ]
     },
     "execution_count": 105,
     "metadata": {},
     "output_type": "execute_result"
    }
   ],
   "source": [
    "# View the dataframe\n",
    "als_pca_df"
   ]
  },
  {
   "cell_type": "markdown",
   "id": "15c26bbf",
   "metadata": {},
   "source": [
    "# 7. Make a scatterplot the PCA transformed data coloring each point by its cluster value."
   ]
  },
  {
   "cell_type": "code",
   "execution_count": 121,
   "id": "9ee71e32",
   "metadata": {},
   "outputs": [],
   "source": [
    "# Filter out cluters\n",
    "als_cluster0 = als_pca_df.loc[als_pca_df['Cluster'] == 0]\n",
    "als_cluster1 = als_pca_df.loc[als_pca_df['Cluster'] == 1]"
   ]
  },
  {
   "cell_type": "code",
   "execution_count": 122,
   "id": "7fe6bf77",
   "metadata": {},
   "outputs": [
    {
     "data": {
      "text/html": [
       "<div>\n",
       "<style scoped>\n",
       "    .dataframe tbody tr th:only-of-type {\n",
       "        vertical-align: middle;\n",
       "    }\n",
       "\n",
       "    .dataframe tbody tr th {\n",
       "        vertical-align: top;\n",
       "    }\n",
       "\n",
       "    .dataframe thead th {\n",
       "        text-align: right;\n",
       "    }\n",
       "</style>\n",
       "<table border=\"1\" class=\"dataframe\">\n",
       "  <thead>\n",
       "    <tr style=\"text-align: right;\">\n",
       "      <th></th>\n",
       "      <th>PC 1</th>\n",
       "      <th>PC 2</th>\n",
       "      <th>Cluster</th>\n",
       "    </tr>\n",
       "  </thead>\n",
       "  <tbody>\n",
       "    <tr>\n",
       "      <th>0</th>\n",
       "      <td>-1.426709</td>\n",
       "      <td>-2.320416</td>\n",
       "      <td>0</td>\n",
       "    </tr>\n",
       "    <tr>\n",
       "      <th>1</th>\n",
       "      <td>-1.440259</td>\n",
       "      <td>-4.871003</td>\n",
       "      <td>0</td>\n",
       "    </tr>\n",
       "    <tr>\n",
       "      <th>3</th>\n",
       "      <td>-1.919943</td>\n",
       "      <td>2.095288</td>\n",
       "      <td>0</td>\n",
       "    </tr>\n",
       "    <tr>\n",
       "      <th>5</th>\n",
       "      <td>-4.528937</td>\n",
       "      <td>-1.298649</td>\n",
       "      <td>0</td>\n",
       "    </tr>\n",
       "    <tr>\n",
       "      <th>8</th>\n",
       "      <td>-2.535018</td>\n",
       "      <td>2.299500</td>\n",
       "      <td>0</td>\n",
       "    </tr>\n",
       "    <tr>\n",
       "      <th>...</th>\n",
       "      <td>...</td>\n",
       "      <td>...</td>\n",
       "      <td>...</td>\n",
       "    </tr>\n",
       "    <tr>\n",
       "      <th>2217</th>\n",
       "      <td>-2.865611</td>\n",
       "      <td>2.047516</td>\n",
       "      <td>0</td>\n",
       "    </tr>\n",
       "    <tr>\n",
       "      <th>2218</th>\n",
       "      <td>-4.477582</td>\n",
       "      <td>1.199746</td>\n",
       "      <td>0</td>\n",
       "    </tr>\n",
       "    <tr>\n",
       "      <th>2219</th>\n",
       "      <td>-0.399048</td>\n",
       "      <td>-1.875772</td>\n",
       "      <td>0</td>\n",
       "    </tr>\n",
       "    <tr>\n",
       "      <th>2220</th>\n",
       "      <td>-0.432847</td>\n",
       "      <td>4.245127</td>\n",
       "      <td>0</td>\n",
       "    </tr>\n",
       "    <tr>\n",
       "      <th>2221</th>\n",
       "      <td>-0.330734</td>\n",
       "      <td>3.317013</td>\n",
       "      <td>0</td>\n",
       "    </tr>\n",
       "  </tbody>\n",
       "</table>\n",
       "<p>1115 rows × 3 columns</p>\n",
       "</div>"
      ],
      "text/plain": [
       "          PC 1      PC 2  Cluster\n",
       "0    -1.426709 -2.320416        0\n",
       "1    -1.440259 -4.871003        0\n",
       "3    -1.919943  2.095288        0\n",
       "5    -4.528937 -1.298649        0\n",
       "8    -2.535018  2.299500        0\n",
       "...        ...       ...      ...\n",
       "2217 -2.865611  2.047516        0\n",
       "2218 -4.477582  1.199746        0\n",
       "2219 -0.399048 -1.875772        0\n",
       "2220 -0.432847  4.245127        0\n",
       "2221 -0.330734  3.317013        0\n",
       "\n",
       "[1115 rows x 3 columns]"
      ]
     },
     "execution_count": 122,
     "metadata": {},
     "output_type": "execute_result"
    }
   ],
   "source": [
    "als_cluster0"
   ]
  },
  {
   "cell_type": "code",
   "execution_count": 128,
   "id": "f4d2fce4",
   "metadata": {},
   "outputs": [
    {
     "data": {
      "image/png": "[encoded data removed]",
      "text/plain": [
       "<Figure size 432x288 with 1 Axes>"
      ]
     },
     "metadata": {
      "needs_background": "light"
     },
     "output_type": "display_data"
    }
   ],
   "source": [
    "# Create a scatter plot of Clusters vs Silhouette Score\n",
    "fig=plt.figure()\n",
    "ax=fig.add_axes([0, 0, 1, 1])\n",
    "ax.scatter(als_cluster0['PC 1'] , als_cluster0['PC 2'] , color = 'red')\n",
    "ax.scatter(als_cluster1['PC 1'] , als_cluster1['PC 2'] , color = 'blue')\n",
    "ax.set_xlabel('PC 1')\n",
    "ax.set_ylabel('PC 2')\n",
    "ax.set_title('ALS PCA Cluster Visualization')\n",
    "plt.show()"
   ]
  },
  {
   "cell_type": "markdown",
   "id": "fccc8084",
   "metadata": {},
   "source": [
    "# 8. Summarize your results and make a conclusion."
   ]
  },
  {
   "cell_type": "markdown",
   "id": "607cec9a",
   "metadata": {},
   "source": [
    "After applying kmeans clustering and PCA, two distinct groups in the ALS data have been indentified. From the visualization above, no datapoints seem out of place from the groupings. "
   ]
  }
 ],
 "metadata": {
  "kernelspec": {
   "display_name": "Python 3",
   "language": "python",
   "name": "python3"
  },
  "language_info": {
   "codemirror_mode": {
    "name": "ipython",
    "version": 3
   },
   "file_extension": ".py",
   "mimetype": "text/x-python",
   "name": "python",
   "nbconvert_exporter": "python",
   "pygments_lexer": "ipython3",
   "version": "3.8.8"
  }
 },
 "nbformat": 4,
 "nbformat_minor": 5
}
