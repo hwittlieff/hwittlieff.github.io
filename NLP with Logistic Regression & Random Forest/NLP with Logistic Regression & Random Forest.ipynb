{
 "cells": [
  {
   "cell_type": "markdown",
   "id": "3b0f5f96",
   "metadata": {},
   "source": [
    "# Natural Language Processing\n",
    "## Logistic Regression & Random Forest"
   ]
  },
  {
   "cell_type": "markdown",
   "id": "f1f4e81c",
   "metadata": {},
   "source": [
    "## Obtain Stem Words"
   ]
  },
  {
   "cell_type": "code",
   "execution_count": 3,
   "id": "0ea7fd3c",
   "metadata": {},
   "outputs": [
    {
     "data": {
      "text/html": [
       "<div>\n",
       "<style scoped>\n",
       "    .dataframe tbody tr th:only-of-type {\n",
       "        vertical-align: middle;\n",
       "    }\n",
       "\n",
       "    .dataframe tbody tr th {\n",
       "        vertical-align: top;\n",
       "    }\n",
       "\n",
       "    .dataframe thead th {\n",
       "        text-align: right;\n",
       "    }\n",
       "</style>\n",
       "<table border=\"1\" class=\"dataframe\">\n",
       "  <thead>\n",
       "    <tr style=\"text-align: right;\">\n",
       "      <th></th>\n",
       "      <th>id</th>\n",
       "      <th>sentiment</th>\n",
       "      <th>review</th>\n",
       "    </tr>\n",
       "  </thead>\n",
       "  <tbody>\n",
       "    <tr>\n",
       "      <th>0</th>\n",
       "      <td>5814_8</td>\n",
       "      <td>1</td>\n",
       "      <td>With all this stuff going down at the moment w...</td>\n",
       "    </tr>\n",
       "    <tr>\n",
       "      <th>1</th>\n",
       "      <td>2381_9</td>\n",
       "      <td>1</td>\n",
       "      <td>\\The Classic War of the Worlds\\\" by Timothy Hi...</td>\n",
       "    </tr>\n",
       "    <tr>\n",
       "      <th>2</th>\n",
       "      <td>7759_3</td>\n",
       "      <td>0</td>\n",
       "      <td>The film starts with a manager (Nicholas Bell)...</td>\n",
       "    </tr>\n",
       "    <tr>\n",
       "      <th>3</th>\n",
       "      <td>3630_4</td>\n",
       "      <td>0</td>\n",
       "      <td>It must be assumed that those who praised this...</td>\n",
       "    </tr>\n",
       "    <tr>\n",
       "      <th>4</th>\n",
       "      <td>9495_8</td>\n",
       "      <td>1</td>\n",
       "      <td>Superbly trashy and wondrously unpretentious 8...</td>\n",
       "    </tr>\n",
       "  </tbody>\n",
       "</table>\n",
       "</div>"
      ],
      "text/plain": [
       "       id  sentiment                                             review\n",
       "0  5814_8          1  With all this stuff going down at the moment w...\n",
       "1  2381_9          1  \\The Classic War of the Worlds\\\" by Timothy Hi...\n",
       "2  7759_3          0  The film starts with a manager (Nicholas Bell)...\n",
       "3  3630_4          0  It must be assumed that those who praised this...\n",
       "4  9495_8          1  Superbly trashy and wondrously unpretentious 8..."
      ]
     },
     "execution_count": 3,
     "metadata": {},
     "output_type": "execute_result"
    }
   ],
   "source": [
    "# Import the pandas library\n",
    "import pandas as pd\n",
    "\n",
    "# Load the datafile\n",
    "df_reviews = pd.read_csv(r'Data/labeledTrainData.tsv', sep='\\t')\n",
    "\n",
    "# Validate the data loaded correctly\n",
    "df_reviews.head()"
   ]
  },
  {
   "cell_type": "code",
   "execution_count": 2,
   "id": "27016b2e",
   "metadata": {},
   "outputs": [],
   "source": [
    "#import regular expressions library\n",
    "import re\n",
    "\n",
    "#import nltk\n",
    "import nltk\n",
    "#import stopwords from NLTK\n",
    "from nltk.corpus import stopwords\n",
    "#import word tokenizer from NLTK\n",
    "from nltk.tokenize import word_tokenize\n",
    "\n",
    "#import sklearn\n",
    "import sklearn\n",
    "#import word count vectorizer from sklearn\n",
    "from sklearn.feature_extraction.text import CountVectorizer\n",
    "#import tf-idf vectorizer from sklearn\n",
    "from sklearn.feature_extraction.text import TfidfVectorizer"
   ]
  },
  {
   "cell_type": "code",
   "execution_count": 4,
   "id": "6b19576e",
   "metadata": {},
   "outputs": [
    {
     "data": {
      "text/html": [
       "<div>\n",
       "<style scoped>\n",
       "    .dataframe tbody tr th:only-of-type {\n",
       "        vertical-align: middle;\n",
       "    }\n",
       "\n",
       "    .dataframe tbody tr th {\n",
       "        vertical-align: top;\n",
       "    }\n",
       "\n",
       "    .dataframe thead th {\n",
       "        text-align: right;\n",
       "    }\n",
       "</style>\n",
       "<table border=\"1\" class=\"dataframe\">\n",
       "  <thead>\n",
       "    <tr style=\"text-align: right;\">\n",
       "      <th></th>\n",
       "      <th>sentiment</th>\n",
       "      <th>review</th>\n",
       "    </tr>\n",
       "  </thead>\n",
       "  <tbody>\n",
       "    <tr>\n",
       "      <th>0</th>\n",
       "      <td>1</td>\n",
       "      <td>With all this stuff going down at the moment w...</td>\n",
       "    </tr>\n",
       "    <tr>\n",
       "      <th>1</th>\n",
       "      <td>1</td>\n",
       "      <td>\\The Classic War of the Worlds\\\" by Timothy Hi...</td>\n",
       "    </tr>\n",
       "    <tr>\n",
       "      <th>2</th>\n",
       "      <td>0</td>\n",
       "      <td>The film starts with a manager (Nicholas Bell)...</td>\n",
       "    </tr>\n",
       "    <tr>\n",
       "      <th>3</th>\n",
       "      <td>0</td>\n",
       "      <td>It must be assumed that those who praised this...</td>\n",
       "    </tr>\n",
       "    <tr>\n",
       "      <th>4</th>\n",
       "      <td>1</td>\n",
       "      <td>Superbly trashy and wondrously unpretentious 8...</td>\n",
       "    </tr>\n",
       "  </tbody>\n",
       "</table>\n",
       "</div>"
      ],
      "text/plain": [
       "   sentiment                                             review\n",
       "0          1  With all this stuff going down at the moment w...\n",
       "1          1  \\The Classic War of the Worlds\\\" by Timothy Hi...\n",
       "2          0  The film starts with a manager (Nicholas Bell)...\n",
       "3          0  It must be assumed that those who praised this...\n",
       "4          1  Superbly trashy and wondrously unpretentious 8..."
      ]
     },
     "execution_count": 4,
     "metadata": {},
     "output_type": "execute_result"
    }
   ],
   "source": [
    "#get a data frame with reviews and sentiments only\n",
    "df_reviews_preprocessed = pd.DataFrame(df_reviews[['sentiment','review']])\n",
    "df_reviews_preprocessed.head()"
   ]
  },
  {
   "cell_type": "code",
   "execution_count": 5,
   "id": "8e9bb8ea",
   "metadata": {},
   "outputs": [],
   "source": [
    "#1) and 2) Convert text to lowercase and romove punctuation/special characters\n",
    "#define a function to clean the text\n",
    "def clean_text(text):\n",
    "    \"\"\"\n",
    "    Remove punctuations and special characters, makes lower case\n",
    "    Args: text \n",
    "    Output: text\n",
    "    \"\"\"    \n",
    "    text=text.lower() #makes text lowercase\n",
    "    text=re.sub('\\\\d|\\\\W+|_',' ',text) #removes extra white space\n",
    "    text=re.sub('[^a-zA-Z0-9]',\" \", text) #removes any non-alphanumeric characters\n",
    "    \n",
    "    return text"
   ]
  },
  {
   "cell_type": "code",
   "execution_count": 6,
   "id": "bb899c55",
   "metadata": {},
   "outputs": [],
   "source": [
    "#3) Remove stop words (and tokenize)\n",
    "def tokenize_and_remove_stop_words(txt):\n",
    "    \"\"\"\n",
    "    takes in a sentence, tokenizes the words into a list,\n",
    "    and then removes stop words from the tokenized list\n",
    "    \"\"\"\n",
    "    #import the nltk package for tokenizing and removing stop words\n",
    "    import nltk\n",
    "    from nltk.tokenize import word_tokenize\n",
    "    #Note: You may have to run this next commmand to download the NLTK 'punkt' library for the first time\n",
    "    #nltk.download('punkt')\n",
    "    from nltk.corpus import stopwords\n",
    "    #Note: You may need to run this next command to download stopwords for the first time\n",
    "    #nltk.download('stopwords')\n",
    "    stop_words = stopwords.words('english')\n",
    "    \n",
    "    txt_token = word_tokenize(txt)\n",
    "    txt_no_stopwords = [word for word in txt_token if word not in stop_words]\n",
    "    \n",
    "    return txt_no_stopwords"
   ]
  },
  {
   "cell_type": "code",
   "execution_count": 7,
   "id": "a10d8e41",
   "metadata": {},
   "outputs": [],
   "source": [
    "#4) Apply NLTK's PorterStemmer\n",
    "#define a function to stem the words\n",
    "def stem_text(word_list):\n",
    "    from nltk.stem.porter import PorterStemmer\n",
    "    porter = PorterStemmer()\n",
    "    \n",
    "    return [porter.stem(word) for word in word_list]"
   ]
  },
  {
   "cell_type": "code",
   "execution_count": 10,
   "id": "96feab81",
   "metadata": {},
   "outputs": [
    {
     "name": "stdout",
     "output_type": "stream",
     "text": [
      "(25000, 6)\n"
     ]
    },
    {
     "data": {
      "text/html": [
       "<div>\n",
       "<style scoped>\n",
       "    .dataframe tbody tr th:only-of-type {\n",
       "        vertical-align: middle;\n",
       "    }\n",
       "\n",
       "    .dataframe tbody tr th {\n",
       "        vertical-align: top;\n",
       "    }\n",
       "\n",
       "    .dataframe thead th {\n",
       "        text-align: right;\n",
       "    }\n",
       "</style>\n",
       "<table border=\"1\" class=\"dataframe\">\n",
       "  <thead>\n",
       "    <tr style=\"text-align: right;\">\n",
       "      <th></th>\n",
       "      <th>sentiment</th>\n",
       "      <th>review</th>\n",
       "      <th>review_clean</th>\n",
       "      <th>review_tokenized</th>\n",
       "      <th>review_stemmed</th>\n",
       "      <th>review_final</th>\n",
       "    </tr>\n",
       "  </thead>\n",
       "  <tbody>\n",
       "    <tr>\n",
       "      <th>0</th>\n",
       "      <td>1</td>\n",
       "      <td>With all this stuff going down at the moment w...</td>\n",
       "      <td>with all this stuff going down at the moment w...</td>\n",
       "      <td>[stuff, going, moment, mj, started, listening,...</td>\n",
       "      <td>[stuff, go, moment, mj, start, listen, music, ...</td>\n",
       "      <td>stuff go moment mj start listen music watch od...</td>\n",
       "    </tr>\n",
       "    <tr>\n",
       "      <th>1</th>\n",
       "      <td>1</td>\n",
       "      <td>\\The Classic War of the Worlds\\\" by Timothy Hi...</td>\n",
       "      <td>the classic war of the worlds by timothy hine...</td>\n",
       "      <td>[classic, war, worlds, timothy, hines, enterta...</td>\n",
       "      <td>[classic, war, world, timothi, hine, entertain...</td>\n",
       "      <td>classic war world timothi hine entertain film ...</td>\n",
       "    </tr>\n",
       "    <tr>\n",
       "      <th>2</th>\n",
       "      <td>0</td>\n",
       "      <td>The film starts with a manager (Nicholas Bell)...</td>\n",
       "      <td>the film starts with a manager nicholas bell g...</td>\n",
       "      <td>[film, starts, manager, nicholas, bell, giving...</td>\n",
       "      <td>[film, start, manag, nichola, bell, give, welc...</td>\n",
       "      <td>film start manag nichola bell give welcom inve...</td>\n",
       "    </tr>\n",
       "    <tr>\n",
       "      <th>3</th>\n",
       "      <td>0</td>\n",
       "      <td>It must be assumed that those who praised this...</td>\n",
       "      <td>it must be assumed that those who praised this...</td>\n",
       "      <td>[must, assumed, praised, film, greatest, filme...</td>\n",
       "      <td>[must, assum, prais, film, greatest, film, ope...</td>\n",
       "      <td>must assum prais film greatest film opera ever...</td>\n",
       "    </tr>\n",
       "    <tr>\n",
       "      <th>4</th>\n",
       "      <td>1</td>\n",
       "      <td>Superbly trashy and wondrously unpretentious 8...</td>\n",
       "      <td>superbly trashy and wondrously unpretentious  ...</td>\n",
       "      <td>[superbly, trashy, wondrously, unpretentious, ...</td>\n",
       "      <td>[superbl, trashi, wondrous, unpretenti, exploi...</td>\n",
       "      <td>superbl trashi wondrous unpretenti exploit hoo...</td>\n",
       "    </tr>\n",
       "  </tbody>\n",
       "</table>\n",
       "</div>"
      ],
      "text/plain": [
       "   sentiment                                             review  \\\n",
       "0          1  With all this stuff going down at the moment w...   \n",
       "1          1  \\The Classic War of the Worlds\\\" by Timothy Hi...   \n",
       "2          0  The film starts with a manager (Nicholas Bell)...   \n",
       "3          0  It must be assumed that those who praised this...   \n",
       "4          1  Superbly trashy and wondrously unpretentious 8...   \n",
       "\n",
       "                                        review_clean  \\\n",
       "0  with all this stuff going down at the moment w...   \n",
       "1   the classic war of the worlds by timothy hine...   \n",
       "2  the film starts with a manager nicholas bell g...   \n",
       "3  it must be assumed that those who praised this...   \n",
       "4  superbly trashy and wondrously unpretentious  ...   \n",
       "\n",
       "                                    review_tokenized  \\\n",
       "0  [stuff, going, moment, mj, started, listening,...   \n",
       "1  [classic, war, worlds, timothy, hines, enterta...   \n",
       "2  [film, starts, manager, nicholas, bell, giving...   \n",
       "3  [must, assumed, praised, film, greatest, filme...   \n",
       "4  [superbly, trashy, wondrously, unpretentious, ...   \n",
       "\n",
       "                                      review_stemmed  \\\n",
       "0  [stuff, go, moment, mj, start, listen, music, ...   \n",
       "1  [classic, war, world, timothi, hine, entertain...   \n",
       "2  [film, start, manag, nichola, bell, give, welc...   \n",
       "3  [must, assum, prais, film, greatest, film, ope...   \n",
       "4  [superbl, trashi, wondrous, unpretenti, exploi...   \n",
       "\n",
       "                                        review_final  \n",
       "0  stuff go moment mj start listen music watch od...  \n",
       "1  classic war world timothi hine entertain film ...  \n",
       "2  film start manag nichola bell give welcom inve...  \n",
       "3  must assum prais film greatest film opera ever...  \n",
       "4  superbl trashi wondrous unpretenti exploit hoo...  "
      ]
     },
     "execution_count": 10,
     "metadata": {},
     "output_type": "execute_result"
    }
   ],
   "source": [
    "#create new columns in the data frame for each preprocessing step\n",
    "#apply text cleaning function\n",
    "df_reviews_preprocessed['review_clean'] = df_reviews_preprocessed['review'].apply(clean_text)\n",
    "#aplpy tokenizing/removing stop words function\n",
    "df_reviews_preprocessed['review_tokenized'] = df_reviews_preprocessed['review_clean'].apply(tokenize_and_remove_stop_words)\n",
    "#apply PorterStemmer function\n",
    "df_reviews_preprocessed['review_stemmed'] = df_reviews_preprocessed['review_tokenized'].apply(stem_text)\n",
    "#put the text back together (untokenize)\n",
    "df_reviews_preprocessed['review_final'] = df_reviews_preprocessed['review_stemmed'].apply(lambda text: ' '.join(text))\n",
    "#view the pre-processed text\n",
    "print(df_reviews_preprocessed.shape)\n",
    "df_reviews_preprocessed.head()"
   ]
  },
  {
   "cell_type": "markdown",
   "id": "05ba768d",
   "metadata": {},
   "source": [
    "# 2. Split this into a training and test set"
   ]
  },
  {
   "cell_type": "code",
   "execution_count": 12,
   "id": "08def421",
   "metadata": {},
   "outputs": [],
   "source": [
    "# Import library\n",
    "from sklearn.model_selection import train_test_split\n",
    "\n",
    "x = df_reviews_preprocessed['review_final']\n",
    "y = df_reviews_preprocessed['sentiment']\n",
    "\n",
    "# Create training & test datasets\n",
    "x_train, x_test, y_train, y_test = train_test_split(x, y, test_size = 0.2)"
   ]
  },
  {
   "cell_type": "markdown",
   "id": "892fa0f8",
   "metadata": {},
   "source": [
    "# 3. Fit an apply the tf-idf vectorization to the training set"
   ]
  },
  {
   "cell_type": "code",
   "execution_count": 15,
   "id": "ba8c4ec0",
   "metadata": {},
   "outputs": [
    {
     "data": {
      "text/plain": [
       "(20000, 45297)"
      ]
     },
     "execution_count": 15,
     "metadata": {},
     "output_type": "execute_result"
    }
   ],
   "source": [
    "# Define a function to get the tf-idf\n",
    "tfidf = TfidfVectorizer()\n",
    "tfidf_matrix_train = tfidf.fit_transform(x_train)\n",
    "\n",
    "# Check the shape to validate tf-idf vectorization\n",
    "tfidf_matrix_train.shape"
   ]
  },
  {
   "cell_type": "markdown",
   "id": "dcf88ae6",
   "metadata": {},
   "source": [
    "# 4. Apply but DO NOT FIT the tf-idf vectorization to the test set (why?)."
   ]
  },
  {
   "cell_type": "code",
   "execution_count": 16,
   "id": "ee43bddb",
   "metadata": {},
   "outputs": [
    {
     "data": {
      "text/plain": [
       "(5000, 45297)"
      ]
     },
     "execution_count": 16,
     "metadata": {},
     "output_type": "execute_result"
    }
   ],
   "source": [
    "# Apply the tf-idf vectorization\n",
    "tfidf_matrix_test = tfidf.transform(x_test)\n",
    "\n",
    "# Check the shape to validate\n",
    "tfidf_matrix_test.shape"
   ]
  },
  {
   "cell_type": "markdown",
   "id": "c59fa297",
   "metadata": {},
   "source": [
    "We do not want to fit the tf-idf vectorization to the test set. Doing so would cause information to leak from the test set into our model."
   ]
  },
  {
   "cell_type": "markdown",
   "id": "224d86d0",
   "metadata": {},
   "source": [
    "# 5. Train a logistic regression using the training data."
   ]
  },
  {
   "cell_type": "code",
   "execution_count": 29,
   "id": "57acebc8",
   "metadata": {},
   "outputs": [],
   "source": [
    "# Load libraries\n",
    "from sklearn.linear_model import LogisticRegression\n",
    "\n",
    "# Create logistic regression object\n",
    "logistic_regression = LogisticRegression(random_state=0)\n",
    "\n",
    "# Train model and make predictions\n",
    "y_test_pred = logistic_regression.fit(tfidf_matrix_train, y_train).predict(tfidf_matrix_test)"
   ]
  },
  {
   "cell_type": "markdown",
   "id": "ccd46829",
   "metadata": {},
   "source": [
    "# 6. Find the model accuracy on test set."
   ]
  },
  {
   "cell_type": "code",
   "execution_count": 40,
   "id": "8ff8aa65",
   "metadata": {},
   "outputs": [
    {
     "data": {
      "text/plain": [
       "0.8844"
      ]
     },
     "execution_count": 40,
     "metadata": {},
     "output_type": "execute_result"
    }
   ],
   "source": [
    "# Load libraries\n",
    "from sklearn.metrics import accuracy_score\n",
    "\n",
    "# Calculate accuracy\n",
    "accuracy_score(y_test, y_test_pred)"
   ]
  },
  {
   "cell_type": "markdown",
   "id": "32d0fcb2",
   "metadata": {},
   "source": [
    "The accuracy is 88.4%"
   ]
  },
  {
   "cell_type": "markdown",
   "id": "a802da69",
   "metadata": {},
   "source": [
    "# 7. Create a confusion matrix for the test set predictions."
   ]
  },
  {
   "cell_type": "code",
   "execution_count": 36,
   "id": "afdb3a60",
   "metadata": {},
   "outputs": [
    {
     "data": {
      "image/png": "[encoded data removed]",
      "text/plain": [
       "<Figure size 432x288 with 1 Axes>"
      ]
     },
     "metadata": {
      "needs_background": "light"
     },
     "output_type": "display_data"
    }
   ],
   "source": [
    "# Load libraries\n",
    "from sklearn.metrics import confusion_matrix\n",
    "import seaborn as sns\n",
    "import matplotlib.pyplot as plt\n",
    "\n",
    "# Create confusion matrix\n",
    "matrix = confusion_matrix(y_test, y_test_pred)\n",
    "\n",
    "# Create pandas dataframe\n",
    "df = pd.DataFrame(matrix)\n",
    "\n",
    "# Create heatmap\n",
    "sns.heatmap(df, annot=True, cbar=None, cmap=\"Blues\")\n",
    "plt.title(\"Logistic Regression Model Confusion Matrix\"), plt.tight_layout()\n",
    "plt.ylabel(\"True Class\"), plt.xlabel(\"Predicted Class\")\n",
    "plt.show()"
   ]
  },
  {
   "cell_type": "markdown",
   "id": "67005f4f",
   "metadata": {},
   "source": [
    "# 8. Get the precision, recall, and F1-score for the test set predictions."
   ]
  },
  {
   "cell_type": "code",
   "execution_count": 47,
   "id": "34169d46",
   "metadata": {},
   "outputs": [
    {
     "name": "stdout",
     "output_type": "stream",
     "text": [
      "Precision: 88%\n",
      "Recall: 90%\n",
      "F1-score: 89%\n"
     ]
    }
   ],
   "source": [
    "# Load libraries\n",
    "from sklearn.metrics import precision_score, recall_score, f1_score\n",
    "\n",
    "# Calculate Precision\n",
    "p = \"{:.0%}\".format(precision_score(y_test, y_test_pred))\n",
    "\n",
    "# Calculate Recall\n",
    "r = \"{:.0%}\".format(recall_score(y_test, y_test_pred))\n",
    "\n",
    "# Calculate F1-score\n",
    "f1 = \"{:.0%}\".format(f1_score(y_test, y_test_pred))\n",
    "\n",
    "# Print results\n",
    "print(\"Precision:\",p)\n",
    "print(\"Recall:\",r)\n",
    "print(\"F1-score:\",f1)"
   ]
  },
  {
   "cell_type": "markdown",
   "id": "edffa334",
   "metadata": {},
   "source": [
    "# 9. Create a ROC curve for the test set."
   ]
  },
  {
   "cell_type": "code",
   "execution_count": 55,
   "id": "c1eb993c",
   "metadata": {},
   "outputs": [
    {
     "data": {
      "image/png": "[encoded data removed]",
      "text/plain": [
       "<Figure size 432x288 with 1 Axes>"
      ]
     },
     "metadata": {
      "needs_background": "light"
     },
     "output_type": "display_data"
    }
   ],
   "source": [
    "# Load libraries\n",
    "from sklearn.metrics import roc_curve, roc_auc_score\n",
    "\n",
    "# Get predicted probabilities\n",
    "target_probabilities = logistic_regression.predict_proba(tfidf_matrix_test)[:,1]\n",
    "\n",
    "# Create true and false positive rates\n",
    "false_positive_rate, true_positive_rate, threshold = roc_curve(y_test, target_probabilities)\n",
    "\n",
    "# Plot ROC curve\n",
    "plt.title(\"Receiver Operating Characterisitcs\")\n",
    "plt.plot(false_positive_rate, true_positive_rate)\n",
    "plt.plot([0, 1], ls=\"--\")\n",
    "plt.plot([0, 0], [1, 0], c=\".7\"), plt.plot([1, 1] , c=\".7\")\n",
    "plt.ylabel(\"True Positive Rate\")\n",
    "plt.xlabel(\"False Positive Rate\")\n",
    "plt.show()\n"
   ]
  },
  {
   "cell_type": "markdown",
   "id": "4ebdc013",
   "metadata": {},
   "source": [
    "# 10. Repeat steps (5) - (9) for a Random Forest model"
   ]
  },
  {
   "cell_type": "markdown",
   "id": "5e96a2a2",
   "metadata": {},
   "source": [
    "## 10.5. Train a random forest using the training data"
   ]
  },
  {
   "cell_type": "code",
   "execution_count": 57,
   "id": "447a3d20",
   "metadata": {},
   "outputs": [],
   "source": [
    "# Load libraries\n",
    "from sklearn.ensemble import RandomForestClassifier\n",
    "\n",
    "# Create random forest classifier object\n",
    "randomforest = RandomForestClassifier(random_state=0, n_jobs=-1)\n",
    "\n",
    "# Train model & predict\n",
    "rf_model_pred = randomforest.fit(tfidf_matrix_train, y_train).predict(tfidf_matrix_test)"
   ]
  },
  {
   "cell_type": "markdown",
   "id": "a9c2bc04",
   "metadata": {},
   "source": [
    "## 10.6. Find the model accuracy on test set."
   ]
  },
  {
   "cell_type": "code",
   "execution_count": 58,
   "id": "18f86217",
   "metadata": {},
   "outputs": [
    {
     "data": {
      "text/plain": [
       "0.844"
      ]
     },
     "execution_count": 58,
     "metadata": {},
     "output_type": "execute_result"
    }
   ],
   "source": [
    "# Calculate accuracy\n",
    "accuracy_score(y_test, rf_model_pred)"
   ]
  },
  {
   "cell_type": "markdown",
   "id": "551ef121",
   "metadata": {},
   "source": [
    "The model\n",
    "s accuracy is 84.4%"
   ]
  },
  {
   "cell_type": "markdown",
   "id": "6fb84512",
   "metadata": {},
   "source": [
    "## 10.7. Create a confusion matrix for the test set predictions."
   ]
  },
  {
   "cell_type": "code",
   "execution_count": 59,
   "id": "2b1f5ad8",
   "metadata": {},
   "outputs": [
    {
     "data": {
      "image/png": "[encoded data removed]",
      "text/plain": [
       "<Figure size 432x288 with 1 Axes>"
      ]
     },
     "metadata": {
      "needs_background": "light"
     },
     "output_type": "display_data"
    }
   ],
   "source": [
    "# Create confusion matrix\n",
    "matrix_rf = confusion_matrix(y_test, rf_model_pred)\n",
    "\n",
    "# Create pandas dataframe\n",
    "df_rf = pd.DataFrame(matrix_rf)\n",
    "\n",
    "# Create heatmap\n",
    "sns.heatmap(df_rf, annot=True, cbar=None, cmap=\"Blues\")\n",
    "plt.title(\"Logistic Regression Model Confusion Matrix\"), plt.tight_layout()\n",
    "plt.ylabel(\"True Class\"), plt.xlabel(\"Predicted Class\")\n",
    "plt.show()"
   ]
  },
  {
   "cell_type": "markdown",
   "id": "d8199f9e",
   "metadata": {},
   "source": [
    "## 10.8. Get the precision, recall, and F1-score for the test set predictions."
   ]
  },
  {
   "cell_type": "code",
   "execution_count": 60,
   "id": "cb72b6e3",
   "metadata": {},
   "outputs": [
    {
     "name": "stdout",
     "output_type": "stream",
     "text": [
      "Precision: 84%\n",
      "Recall: 85%\n",
      "F1-score: 84%\n"
     ]
    }
   ],
   "source": [
    "# Calculate Precision\n",
    "p_rf = \"{:.0%}\".format(precision_score(y_test, rf_model_pred))\n",
    "\n",
    "# Calculate Recall\n",
    "r_rf = \"{:.0%}\".format(recall_score(y_test, rf_model_pred))\n",
    "\n",
    "# Calculate F1-score\n",
    "f1_rf = \"{:.0%}\".format(f1_score(y_test, rf_model_pred))\n",
    "\n",
    "# Print results\n",
    "print(\"Precision:\",p_rf)\n",
    "print(\"Recall:\",r_rf)\n",
    "print(\"F1-score:\",f1_rf)"
   ]
  },
  {
   "cell_type": "markdown",
   "id": "2f94f594",
   "metadata": {},
   "source": [
    "## 10.9. Create a ROC curve for the test set."
   ]
  },
  {
   "cell_type": "code",
   "execution_count": 61,
   "id": "3ee52b20",
   "metadata": {},
   "outputs": [
    {
     "data": {
      "image/png": "[encoded data removed]",
      "text/plain": [
       "<Figure size 432x288 with 1 Axes>"
      ]
     },
     "metadata": {
      "needs_background": "light"
     },
     "output_type": "display_data"
    }
   ],
   "source": [
    "# Get predicted probabilities\n",
    "target_probabilities_rf = randomforest.predict_proba(tfidf_matrix_test)[:,1]\n",
    "\n",
    "# Create true and false positive rates\n",
    "false_positive_rate_rf, true_positive_rate_rf, threshold_rf = roc_curve(y_test, target_probabilities)\n",
    "\n",
    "# Plot ROC curve\n",
    "plt.title(\"Receiver Operating Characterisitcs\")\n",
    "plt.plot(false_positive_rate_rf, true_positive_rate_rf)\n",
    "plt.plot([0, 1], ls=\"--\")\n",
    "plt.plot([0, 0], [1, 0], c=\".7\"), plt.plot([1, 1] , c=\".7\")\n",
    "plt.ylabel(\"True Positive Rate\")\n",
    "plt.xlabel(\"False Positive Rate\")\n",
    "plt.show()"
   ]
  }
 ],
 "metadata": {
  "kernelspec": {
   "display_name": "Python 3",
   "language": "python",
   "name": "python3"
  },
  "language_info": {
   "codemirror_mode": {
    "name": "ipython",
    "version": 3
   },
   "file_extension": ".py",
   "mimetype": "text/x-python",
   "name": "python",
   "nbconvert_exporter": "python",
   "pygments_lexer": "ipython3",
   "version": "3.8.8"
  }
 },
 "nbformat": 4,
 "nbformat_minor": 5
}
