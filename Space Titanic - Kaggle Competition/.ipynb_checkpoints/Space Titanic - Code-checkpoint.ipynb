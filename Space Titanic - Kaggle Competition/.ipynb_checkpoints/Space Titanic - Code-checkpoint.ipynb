{
 "cells": [
  {
   "cell_type": "markdown",
   "id": "e073ec4a",
   "metadata": {},
   "source": [
    "# Space Titanic"
   ]
  },
  {
   "cell_type": "markdown",
   "id": "e9e4b233",
   "metadata": {},
   "source": [
    "# Load the dataset"
   ]
  },
  {
   "cell_type": "code",
   "execution_count": 1,
   "id": "30dfd71c",
   "metadata": {},
   "outputs": [],
   "source": [
    "# Load libraries\n",
    "import pandas as pd\n",
    "from sklearn.model_selection import train_test_split\n",
    "import matplotlib.pyplot as plt\n",
    "import seaborn as sns"
   ]
  },
  {
   "cell_type": "code",
   "execution_count": 2,
   "id": "cd692c48",
   "metadata": {},
   "outputs": [],
   "source": [
    "# Load datasets\n",
    "df = pd.read_csv('Data/train.csv')"
   ]
  },
  {
   "cell_type": "code",
   "execution_count": 3,
   "id": "02ad8db0",
   "metadata": {},
   "outputs": [
    {
     "data": {
      "text/html": [
       "<div>\n",
       "<style scoped>\n",
       "    .dataframe tbody tr th:only-of-type {\n",
       "        vertical-align: middle;\n",
       "    }\n",
       "\n",
       "    .dataframe tbody tr th {\n",
       "        vertical-align: top;\n",
       "    }\n",
       "\n",
       "    .dataframe thead th {\n",
       "        text-align: right;\n",
       "    }\n",
       "</style>\n",
       "<table border=\"1\" class=\"dataframe\">\n",
       "  <thead>\n",
       "    <tr style=\"text-align: right;\">\n",
       "      <th></th>\n",
       "      <th>PassengerId</th>\n",
       "      <th>HomePlanet</th>\n",
       "      <th>CryoSleep</th>\n",
       "      <th>Cabin</th>\n",
       "      <th>Destination</th>\n",
       "      <th>Age</th>\n",
       "      <th>VIP</th>\n",
       "      <th>RoomService</th>\n",
       "      <th>FoodCourt</th>\n",
       "      <th>ShoppingMall</th>\n",
       "      <th>Spa</th>\n",
       "      <th>VRDeck</th>\n",
       "      <th>Name</th>\n",
       "      <th>Transported</th>\n",
       "    </tr>\n",
       "  </thead>\n",
       "  <tbody>\n",
       "    <tr>\n",
       "      <th>0</th>\n",
       "      <td>0001_01</td>\n",
       "      <td>Europa</td>\n",
       "      <td>False</td>\n",
       "      <td>B/0/P</td>\n",
       "      <td>TRAPPIST-1e</td>\n",
       "      <td>39.0</td>\n",
       "      <td>False</td>\n",
       "      <td>0.0</td>\n",
       "      <td>0.0</td>\n",
       "      <td>0.0</td>\n",
       "      <td>0.0</td>\n",
       "      <td>0.0</td>\n",
       "      <td>Maham Ofracculy</td>\n",
       "      <td>False</td>\n",
       "    </tr>\n",
       "    <tr>\n",
       "      <th>1</th>\n",
       "      <td>0002_01</td>\n",
       "      <td>Earth</td>\n",
       "      <td>False</td>\n",
       "      <td>F/0/S</td>\n",
       "      <td>TRAPPIST-1e</td>\n",
       "      <td>24.0</td>\n",
       "      <td>False</td>\n",
       "      <td>109.0</td>\n",
       "      <td>9.0</td>\n",
       "      <td>25.0</td>\n",
       "      <td>549.0</td>\n",
       "      <td>44.0</td>\n",
       "      <td>Juanna Vines</td>\n",
       "      <td>True</td>\n",
       "    </tr>\n",
       "    <tr>\n",
       "      <th>2</th>\n",
       "      <td>0003_01</td>\n",
       "      <td>Europa</td>\n",
       "      <td>False</td>\n",
       "      <td>A/0/S</td>\n",
       "      <td>TRAPPIST-1e</td>\n",
       "      <td>58.0</td>\n",
       "      <td>True</td>\n",
       "      <td>43.0</td>\n",
       "      <td>3576.0</td>\n",
       "      <td>0.0</td>\n",
       "      <td>6715.0</td>\n",
       "      <td>49.0</td>\n",
       "      <td>Altark Susent</td>\n",
       "      <td>False</td>\n",
       "    </tr>\n",
       "    <tr>\n",
       "      <th>3</th>\n",
       "      <td>0003_02</td>\n",
       "      <td>Europa</td>\n",
       "      <td>False</td>\n",
       "      <td>A/0/S</td>\n",
       "      <td>TRAPPIST-1e</td>\n",
       "      <td>33.0</td>\n",
       "      <td>False</td>\n",
       "      <td>0.0</td>\n",
       "      <td>1283.0</td>\n",
       "      <td>371.0</td>\n",
       "      <td>3329.0</td>\n",
       "      <td>193.0</td>\n",
       "      <td>Solam Susent</td>\n",
       "      <td>False</td>\n",
       "    </tr>\n",
       "    <tr>\n",
       "      <th>4</th>\n",
       "      <td>0004_01</td>\n",
       "      <td>Earth</td>\n",
       "      <td>False</td>\n",
       "      <td>F/1/S</td>\n",
       "      <td>TRAPPIST-1e</td>\n",
       "      <td>16.0</td>\n",
       "      <td>False</td>\n",
       "      <td>303.0</td>\n",
       "      <td>70.0</td>\n",
       "      <td>151.0</td>\n",
       "      <td>565.0</td>\n",
       "      <td>2.0</td>\n",
       "      <td>Willy Santantines</td>\n",
       "      <td>True</td>\n",
       "    </tr>\n",
       "    <tr>\n",
       "      <th>5</th>\n",
       "      <td>0005_01</td>\n",
       "      <td>Earth</td>\n",
       "      <td>False</td>\n",
       "      <td>F/0/P</td>\n",
       "      <td>PSO J318.5-22</td>\n",
       "      <td>44.0</td>\n",
       "      <td>False</td>\n",
       "      <td>0.0</td>\n",
       "      <td>483.0</td>\n",
       "      <td>0.0</td>\n",
       "      <td>291.0</td>\n",
       "      <td>0.0</td>\n",
       "      <td>Sandie Hinetthews</td>\n",
       "      <td>True</td>\n",
       "    </tr>\n",
       "    <tr>\n",
       "      <th>6</th>\n",
       "      <td>0006_01</td>\n",
       "      <td>Earth</td>\n",
       "      <td>False</td>\n",
       "      <td>F/2/S</td>\n",
       "      <td>TRAPPIST-1e</td>\n",
       "      <td>26.0</td>\n",
       "      <td>False</td>\n",
       "      <td>42.0</td>\n",
       "      <td>1539.0</td>\n",
       "      <td>3.0</td>\n",
       "      <td>0.0</td>\n",
       "      <td>0.0</td>\n",
       "      <td>Billex Jacostaffey</td>\n",
       "      <td>True</td>\n",
       "    </tr>\n",
       "    <tr>\n",
       "      <th>7</th>\n",
       "      <td>0006_02</td>\n",
       "      <td>Earth</td>\n",
       "      <td>True</td>\n",
       "      <td>G/0/S</td>\n",
       "      <td>TRAPPIST-1e</td>\n",
       "      <td>28.0</td>\n",
       "      <td>False</td>\n",
       "      <td>0.0</td>\n",
       "      <td>0.0</td>\n",
       "      <td>0.0</td>\n",
       "      <td>0.0</td>\n",
       "      <td>NaN</td>\n",
       "      <td>Candra Jacostaffey</td>\n",
       "      <td>True</td>\n",
       "    </tr>\n",
       "    <tr>\n",
       "      <th>8</th>\n",
       "      <td>0007_01</td>\n",
       "      <td>Earth</td>\n",
       "      <td>False</td>\n",
       "      <td>F/3/S</td>\n",
       "      <td>TRAPPIST-1e</td>\n",
       "      <td>35.0</td>\n",
       "      <td>False</td>\n",
       "      <td>0.0</td>\n",
       "      <td>785.0</td>\n",
       "      <td>17.0</td>\n",
       "      <td>216.0</td>\n",
       "      <td>0.0</td>\n",
       "      <td>Andona Beston</td>\n",
       "      <td>True</td>\n",
       "    </tr>\n",
       "    <tr>\n",
       "      <th>9</th>\n",
       "      <td>0008_01</td>\n",
       "      <td>Europa</td>\n",
       "      <td>True</td>\n",
       "      <td>B/1/P</td>\n",
       "      <td>55 Cancri e</td>\n",
       "      <td>14.0</td>\n",
       "      <td>False</td>\n",
       "      <td>0.0</td>\n",
       "      <td>0.0</td>\n",
       "      <td>0.0</td>\n",
       "      <td>0.0</td>\n",
       "      <td>0.0</td>\n",
       "      <td>Erraiam Flatic</td>\n",
       "      <td>True</td>\n",
       "    </tr>\n",
       "  </tbody>\n",
       "</table>\n",
       "</div>"
      ],
      "text/plain": [
       "  PassengerId HomePlanet CryoSleep  Cabin    Destination   Age    VIP  \\\n",
       "0     0001_01     Europa     False  B/0/P    TRAPPIST-1e  39.0  False   \n",
       "1     0002_01      Earth     False  F/0/S    TRAPPIST-1e  24.0  False   \n",
       "2     0003_01     Europa     False  A/0/S    TRAPPIST-1e  58.0   True   \n",
       "3     0003_02     Europa     False  A/0/S    TRAPPIST-1e  33.0  False   \n",
       "4     0004_01      Earth     False  F/1/S    TRAPPIST-1e  16.0  False   \n",
       "5     0005_01      Earth     False  F/0/P  PSO J318.5-22  44.0  False   \n",
       "6     0006_01      Earth     False  F/2/S    TRAPPIST-1e  26.0  False   \n",
       "7     0006_02      Earth      True  G/0/S    TRAPPIST-1e  28.0  False   \n",
       "8     0007_01      Earth     False  F/3/S    TRAPPIST-1e  35.0  False   \n",
       "9     0008_01     Europa      True  B/1/P    55 Cancri e  14.0  False   \n",
       "\n",
       "   RoomService  FoodCourt  ShoppingMall     Spa  VRDeck                Name  \\\n",
       "0          0.0        0.0           0.0     0.0     0.0     Maham Ofracculy   \n",
       "1        109.0        9.0          25.0   549.0    44.0        Juanna Vines   \n",
       "2         43.0     3576.0           0.0  6715.0    49.0       Altark Susent   \n",
       "3          0.0     1283.0         371.0  3329.0   193.0        Solam Susent   \n",
       "4        303.0       70.0         151.0   565.0     2.0   Willy Santantines   \n",
       "5          0.0      483.0           0.0   291.0     0.0   Sandie Hinetthews   \n",
       "6         42.0     1539.0           3.0     0.0     0.0  Billex Jacostaffey   \n",
       "7          0.0        0.0           0.0     0.0     NaN  Candra Jacostaffey   \n",
       "8          0.0      785.0          17.0   216.0     0.0       Andona Beston   \n",
       "9          0.0        0.0           0.0     0.0     0.0      Erraiam Flatic   \n",
       "\n",
       "   Transported  \n",
       "0        False  \n",
       "1         True  \n",
       "2        False  \n",
       "3        False  \n",
       "4         True  \n",
       "5         True  \n",
       "6         True  \n",
       "7         True  \n",
       "8         True  \n",
       "9         True  "
      ]
     },
     "execution_count": 3,
     "metadata": {},
     "output_type": "execute_result"
    }
   ],
   "source": [
    "# View the df\n",
    "df.head(10)"
   ]
  },
  {
   "cell_type": "code",
   "execution_count": 4,
   "id": "2598909a",
   "metadata": {},
   "outputs": [
    {
     "data": {
      "text/plain": [
       "(8693, 14)"
      ]
     },
     "execution_count": 4,
     "metadata": {},
     "output_type": "execute_result"
    }
   ],
   "source": [
    "df.shape"
   ]
  },
  {
   "cell_type": "markdown",
   "id": "b67b6a54",
   "metadata": {},
   "source": [
    "# Data Preparation"
   ]
  },
  {
   "cell_type": "code",
   "execution_count": 5,
   "id": "b5eabe2d",
   "metadata": {},
   "outputs": [
    {
     "data": {
      "text/plain": [
       "PassengerId       0\n",
       "HomePlanet      201\n",
       "CryoSleep       217\n",
       "Cabin           199\n",
       "Destination     182\n",
       "Age             179\n",
       "VIP             203\n",
       "RoomService     181\n",
       "FoodCourt       183\n",
       "ShoppingMall    208\n",
       "Spa             183\n",
       "VRDeck          188\n",
       "Name            200\n",
       "Transported       0\n",
       "dtype: int64"
      ]
     },
     "execution_count": 5,
     "metadata": {},
     "output_type": "execute_result"
    }
   ],
   "source": [
    "# Check for nulls\n",
    "df.isnull().sum()"
   ]
  },
  {
   "cell_type": "code",
   "execution_count": 6,
   "id": "3aa161c6",
   "metadata": {},
   "outputs": [
    {
     "name": "stdout",
     "output_type": "stream",
     "text": [
      "28.827930467465347\n"
     ]
    }
   ],
   "source": [
    "# Fill nulls in age feature with mean\n",
    "df['Age'] = df['Age'].fillna(df['Age'].mean())\n",
    "print(df['Age'].mean())\n",
    "mean_age = df['Age'].mean()"
   ]
  },
  {
   "cell_type": "markdown",
   "id": "58cd2a46",
   "metadata": {},
   "source": [
    "The features RoomService, FoodCourt, ShoppingMall, Spa, & VRDeck are amounts spent at each of the SpaceSHip Titanic's luxury amenities. Any nulls in these features will be replaced with 0s. Nulls for VIP & CryoSleep will be assumed to be False."
   ]
  },
  {
   "cell_type": "code",
   "execution_count": 7,
   "id": "43a7fd5e",
   "metadata": {},
   "outputs": [],
   "source": [
    "# Replace NAs\n",
    "df['RoomService'] = df['RoomService'].fillna(0)\n",
    "df['FoodCourt'] = df['FoodCourt'].fillna(0)\n",
    "df['ShoppingMall'] = df['ShoppingMall'].fillna(0)\n",
    "df['Spa'] = df['Spa'].fillna(0)\n",
    "df['VRDeck'] = df['VRDeck'].fillna(0)\n",
    "df['VIP'] = df['VIP'].fillna(False)\n",
    "df['CryoSleep'] = df['CryoSleep'].fillna(False)"
   ]
  },
  {
   "cell_type": "markdown",
   "id": "de82ea02",
   "metadata": {},
   "source": [
    "Features will be created from 'Cabin'. These features will describe the deck level and side of the ship."
   ]
  },
  {
   "cell_type": "code",
   "execution_count": 8,
   "id": "4ec31c2e",
   "metadata": {},
   "outputs": [],
   "source": [
    "# Extract the deck information\n",
    "df['Deck'] = df['Cabin'].str[:1]\n",
    "\n",
    "# Extract the side (port/starboard) information\n",
    "df['Side'] = df['Cabin'].str[-1:]"
   ]
  },
  {
   "cell_type": "code",
   "execution_count": 9,
   "id": "b6ff8fc8",
   "metadata": {},
   "outputs": [],
   "source": [
    "# Drop the cabin feature\n",
    "df = df.drop(['Cabin'], axis=1)"
   ]
  },
  {
   "cell_type": "markdown",
   "id": "eb7f8c85",
   "metadata": {},
   "source": [
    "Recode binary features as numeric"
   ]
  },
  {
   "cell_type": "code",
   "execution_count": 10,
   "id": "0d2be594",
   "metadata": {},
   "outputs": [],
   "source": [
    "df.replace({False: 0, True: 1, 'False':0}, inplace=True)"
   ]
  },
  {
   "cell_type": "markdown",
   "id": "157cf9ee",
   "metadata": {},
   "source": [
    "Create Room Occupants Feature from PassengerId. This feature gives the total number of occupants in the room with each passenger."
   ]
  },
  {
   "cell_type": "code",
   "execution_count": 11,
   "id": "0950dba1",
   "metadata": {},
   "outputs": [],
   "source": [
    "# Obtain GroupId\n",
    "df['GroupId'] = df['PassengerId'].str[:4]"
   ]
  },
  {
   "cell_type": "code",
   "execution_count": 12,
   "id": "25bef66d",
   "metadata": {},
   "outputs": [],
   "source": [
    "# Extract counts by GroupID\n",
    "df_counts = pd.DataFrame(df['GroupId'].value_counts())\n",
    "df_counts.reset_index(inplace=True)\n",
    "df_counts = df_counts.rename(columns = {'index':'GroupId', 'GroupId':'Total Room Occupants'})\n",
    "df_counts['GroupId'] = df_counts['GroupId'].astype(object)"
   ]
  },
  {
   "cell_type": "code",
   "execution_count": 13,
   "id": "f99c3e12",
   "metadata": {},
   "outputs": [],
   "source": [
    "# Merge Total Room Occupants data with df\n",
    "df = df.merge(df_counts, on='GroupId', how='left')\n",
    "\n",
    "# Drop unneeded features\n",
    "df = df.drop(['PassengerId', 'GroupId', 'Name'], axis=1)"
   ]
  },
  {
   "cell_type": "markdown",
   "id": "a86c5896",
   "metadata": {},
   "source": [
    "Dummy variable will then be created for categorical data"
   ]
  },
  {
   "cell_type": "code",
   "execution_count": 14,
   "id": "3b17d86d",
   "metadata": {},
   "outputs": [],
   "source": [
    "df = pd.get_dummies(df)"
   ]
  },
  {
   "cell_type": "markdown",
   "id": "db058232",
   "metadata": {},
   "source": [
    "Validate no nulls"
   ]
  },
  {
   "cell_type": "code",
   "execution_count": 15,
   "id": "678e5254",
   "metadata": {},
   "outputs": [
    {
     "data": {
      "text/plain": [
       "CryoSleep                    0\n",
       "Age                          0\n",
       "VIP                          0\n",
       "RoomService                  0\n",
       "FoodCourt                    0\n",
       "ShoppingMall                 0\n",
       "Spa                          0\n",
       "VRDeck                       0\n",
       "Transported                  0\n",
       "Total Room Occupants         0\n",
       "HomePlanet_Earth             0\n",
       "HomePlanet_Europa            0\n",
       "HomePlanet_Mars              0\n",
       "Destination_55 Cancri e      0\n",
       "Destination_PSO J318.5-22    0\n",
       "Destination_TRAPPIST-1e      0\n",
       "Deck_A                       0\n",
       "Deck_B                       0\n",
       "Deck_C                       0\n",
       "Deck_D                       0\n",
       "Deck_E                       0\n",
       "Deck_F                       0\n",
       "Deck_G                       0\n",
       "Deck_T                       0\n",
       "Side_P                       0\n",
       "Side_S                       0\n",
       "dtype: int64"
      ]
     },
     "execution_count": 15,
     "metadata": {},
     "output_type": "execute_result"
    }
   ],
   "source": [
    "# Check for nulls\n",
    "df.isnull().sum()"
   ]
  },
  {
   "cell_type": "markdown",
   "id": "ac763539",
   "metadata": {},
   "source": [
    "# Data Exploration"
   ]
  },
  {
   "cell_type": "code",
   "execution_count": 16,
   "id": "2be623a3",
   "metadata": {},
   "outputs": [
    {
     "data": {
      "text/html": [
       "<div>\n",
       "<style scoped>\n",
       "    .dataframe tbody tr th:only-of-type {\n",
       "        vertical-align: middle;\n",
       "    }\n",
       "\n",
       "    .dataframe tbody tr th {\n",
       "        vertical-align: top;\n",
       "    }\n",
       "\n",
       "    .dataframe thead th {\n",
       "        text-align: right;\n",
       "    }\n",
       "</style>\n",
       "<table border=\"1\" class=\"dataframe\">\n",
       "  <thead>\n",
       "    <tr style=\"text-align: right;\">\n",
       "      <th></th>\n",
       "      <th>CryoSleep</th>\n",
       "      <th>Age</th>\n",
       "      <th>VIP</th>\n",
       "      <th>RoomService</th>\n",
       "      <th>FoodCourt</th>\n",
       "      <th>ShoppingMall</th>\n",
       "      <th>Spa</th>\n",
       "      <th>VRDeck</th>\n",
       "      <th>Transported</th>\n",
       "      <th>Total Room Occupants</th>\n",
       "      <th>...</th>\n",
       "      <th>Deck_A</th>\n",
       "      <th>Deck_B</th>\n",
       "      <th>Deck_C</th>\n",
       "      <th>Deck_D</th>\n",
       "      <th>Deck_E</th>\n",
       "      <th>Deck_F</th>\n",
       "      <th>Deck_G</th>\n",
       "      <th>Deck_T</th>\n",
       "      <th>Side_P</th>\n",
       "      <th>Side_S</th>\n",
       "    </tr>\n",
       "  </thead>\n",
       "  <tbody>\n",
       "    <tr>\n",
       "      <th>CryoSleep</th>\n",
       "      <td>1.000000</td>\n",
       "      <td>-0.070736</td>\n",
       "      <td>-0.078281</td>\n",
       "      <td>-0.244089</td>\n",
       "      <td>-0.205928</td>\n",
       "      <td>-0.207798</td>\n",
       "      <td>-0.198307</td>\n",
       "      <td>-0.192721</td>\n",
       "      <td>0.460132</td>\n",
       "      <td>0.079363</td>\n",
       "      <td>...</td>\n",
       "      <td>-0.030594</td>\n",
       "      <td>0.124049</td>\n",
       "      <td>0.028433</td>\n",
       "      <td>-0.066678</td>\n",
       "      <td>-0.110644</td>\n",
       "      <td>-0.220150</td>\n",
       "      <td>0.241399</td>\n",
       "      <td>-0.017579</td>\n",
       "      <td>-0.023858</td>\n",
       "      <td>0.016861</td>\n",
       "    </tr>\n",
       "    <tr>\n",
       "      <th>Age</th>\n",
       "      <td>-0.070736</td>\n",
       "      <td>1.000000</td>\n",
       "      <td>0.091574</td>\n",
       "      <td>0.068425</td>\n",
       "      <td>0.127343</td>\n",
       "      <td>0.032846</td>\n",
       "      <td>0.121071</td>\n",
       "      <td>0.099551</td>\n",
       "      <td>-0.074249</td>\n",
       "      <td>-0.176833</td>\n",
       "      <td>...</td>\n",
       "      <td>0.074245</td>\n",
       "      <td>0.103166</td>\n",
       "      <td>0.126428</td>\n",
       "      <td>0.077091</td>\n",
       "      <td>0.028312</td>\n",
       "      <td>-0.018762</td>\n",
       "      <td>-0.209792</td>\n",
       "      <td>0.013673</td>\n",
       "      <td>-0.011758</td>\n",
       "      <td>0.010749</td>\n",
       "    </tr>\n",
       "    <tr>\n",
       "      <th>VIP</th>\n",
       "      <td>-0.078281</td>\n",
       "      <td>0.091574</td>\n",
       "      <td>1.000000</td>\n",
       "      <td>0.056566</td>\n",
       "      <td>0.125499</td>\n",
       "      <td>0.018412</td>\n",
       "      <td>0.060991</td>\n",
       "      <td>0.123061</td>\n",
       "      <td>-0.037261</td>\n",
       "      <td>0.002856</td>\n",
       "      <td>...</td>\n",
       "      <td>0.132574</td>\n",
       "      <td>0.065080</td>\n",
       "      <td>0.065591</td>\n",
       "      <td>0.067678</td>\n",
       "      <td>-0.012912</td>\n",
       "      <td>-0.057578</td>\n",
       "      <td>-0.098863</td>\n",
       "      <td>-0.003672</td>\n",
       "      <td>0.008798</td>\n",
       "      <td>-0.011017</td>\n",
       "    </tr>\n",
       "    <tr>\n",
       "      <th>RoomService</th>\n",
       "      <td>-0.244089</td>\n",
       "      <td>0.068425</td>\n",
       "      <td>0.056566</td>\n",
       "      <td>1.000000</td>\n",
       "      <td>-0.015126</td>\n",
       "      <td>0.052337</td>\n",
       "      <td>0.009244</td>\n",
       "      <td>-0.018624</td>\n",
       "      <td>-0.241124</td>\n",
       "      <td>-0.039734</td>\n",
       "      <td>...</td>\n",
       "      <td>-0.022937</td>\n",
       "      <td>-0.064536</td>\n",
       "      <td>-0.019494</td>\n",
       "      <td>0.160699</td>\n",
       "      <td>0.043935</td>\n",
       "      <td>0.085627</td>\n",
       "      <td>-0.145289</td>\n",
       "      <td>0.007525</td>\n",
       "      <td>0.006991</td>\n",
       "      <td>-0.014918</td>\n",
       "    </tr>\n",
       "    <tr>\n",
       "      <th>FoodCourt</th>\n",
       "      <td>-0.205928</td>\n",
       "      <td>0.127343</td>\n",
       "      <td>0.125499</td>\n",
       "      <td>-0.015126</td>\n",
       "      <td>1.000000</td>\n",
       "      <td>-0.013717</td>\n",
       "      <td>0.221468</td>\n",
       "      <td>0.224572</td>\n",
       "      <td>0.045583</td>\n",
       "      <td>0.032502</td>\n",
       "      <td>...</td>\n",
       "      <td>0.119327</td>\n",
       "      <td>0.155351</td>\n",
       "      <td>0.257511</td>\n",
       "      <td>0.020128</td>\n",
       "      <td>-0.038889</td>\n",
       "      <td>-0.131988</td>\n",
       "      <td>-0.149911</td>\n",
       "      <td>0.014267</td>\n",
       "      <td>-0.019682</td>\n",
       "      <td>0.019625</td>\n",
       "    </tr>\n",
       "    <tr>\n",
       "      <th>ShoppingMall</th>\n",
       "      <td>-0.207798</td>\n",
       "      <td>0.032846</td>\n",
       "      <td>0.018412</td>\n",
       "      <td>0.052337</td>\n",
       "      <td>-0.013717</td>\n",
       "      <td>1.000000</td>\n",
       "      <td>0.014542</td>\n",
       "      <td>-0.007849</td>\n",
       "      <td>0.009391</td>\n",
       "      <td>-0.038536</td>\n",
       "      <td>...</td>\n",
       "      <td>-0.017335</td>\n",
       "      <td>-0.010750</td>\n",
       "      <td>0.000906</td>\n",
       "      <td>0.054823</td>\n",
       "      <td>0.031747</td>\n",
       "      <td>0.074473</td>\n",
       "      <td>-0.108538</td>\n",
       "      <td>-0.006787</td>\n",
       "      <td>0.020940</td>\n",
       "      <td>-0.018018</td>\n",
       "    </tr>\n",
       "    <tr>\n",
       "      <th>Spa</th>\n",
       "      <td>-0.198307</td>\n",
       "      <td>0.121071</td>\n",
       "      <td>0.060991</td>\n",
       "      <td>0.009244</td>\n",
       "      <td>0.221468</td>\n",
       "      <td>0.014542</td>\n",
       "      <td>1.000000</td>\n",
       "      <td>0.147658</td>\n",
       "      <td>-0.218545</td>\n",
       "      <td>0.019218</td>\n",
       "      <td>...</td>\n",
       "      <td>0.060152</td>\n",
       "      <td>0.114257</td>\n",
       "      <td>0.163670</td>\n",
       "      <td>0.033486</td>\n",
       "      <td>-0.011736</td>\n",
       "      <td>-0.087538</td>\n",
       "      <td>-0.124342</td>\n",
       "      <td>0.036316</td>\n",
       "      <td>-0.005700</td>\n",
       "      <td>-0.002116</td>\n",
       "    </tr>\n",
       "    <tr>\n",
       "      <th>VRDeck</th>\n",
       "      <td>-0.192721</td>\n",
       "      <td>0.099551</td>\n",
       "      <td>0.123061</td>\n",
       "      <td>-0.018624</td>\n",
       "      <td>0.224572</td>\n",
       "      <td>-0.007849</td>\n",
       "      <td>0.147658</td>\n",
       "      <td>1.000000</td>\n",
       "      <td>-0.204874</td>\n",
       "      <td>0.009130</td>\n",
       "      <td>...</td>\n",
       "      <td>0.096177</td>\n",
       "      <td>0.122644</td>\n",
       "      <td>0.206639</td>\n",
       "      <td>-0.003542</td>\n",
       "      <td>-0.017905</td>\n",
       "      <td>-0.094548</td>\n",
       "      <td>-0.127434</td>\n",
       "      <td>0.012369</td>\n",
       "      <td>0.009089</td>\n",
       "      <td>-0.006950</td>\n",
       "    </tr>\n",
       "    <tr>\n",
       "      <th>Transported</th>\n",
       "      <td>0.460132</td>\n",
       "      <td>-0.074249</td>\n",
       "      <td>-0.037261</td>\n",
       "      <td>-0.241124</td>\n",
       "      <td>0.045583</td>\n",
       "      <td>0.009391</td>\n",
       "      <td>-0.218545</td>\n",
       "      <td>-0.204874</td>\n",
       "      <td>1.000000</td>\n",
       "      <td>0.082644</td>\n",
       "      <td>...</td>\n",
       "      <td>-0.002623</td>\n",
       "      <td>0.144733</td>\n",
       "      <td>0.108193</td>\n",
       "      <td>-0.034046</td>\n",
       "      <td>-0.097965</td>\n",
       "      <td>-0.087753</td>\n",
       "      <td>0.016269</td>\n",
       "      <td>-0.014568</td>\n",
       "      <td>-0.101397</td>\n",
       "      <td>0.101455</td>\n",
       "    </tr>\n",
       "    <tr>\n",
       "      <th>Total Room Occupants</th>\n",
       "      <td>0.079363</td>\n",
       "      <td>-0.176833</td>\n",
       "      <td>0.002856</td>\n",
       "      <td>-0.039734</td>\n",
       "      <td>0.032502</td>\n",
       "      <td>-0.038536</td>\n",
       "      <td>0.019218</td>\n",
       "      <td>0.009130</td>\n",
       "      <td>0.082644</td>\n",
       "      <td>1.000000</td>\n",
       "      <td>...</td>\n",
       "      <td>0.038748</td>\n",
       "      <td>0.079807</td>\n",
       "      <td>0.104512</td>\n",
       "      <td>-0.005688</td>\n",
       "      <td>-0.064911</td>\n",
       "      <td>-0.124731</td>\n",
       "      <td>0.039220</td>\n",
       "      <td>-0.015563</td>\n",
       "      <td>-0.017522</td>\n",
       "      <td>0.011615</td>\n",
       "    </tr>\n",
       "    <tr>\n",
       "      <th>HomePlanet_Earth</th>\n",
       "      <td>-0.109133</td>\n",
       "      <td>-0.200235</td>\n",
       "      <td>-0.162341</td>\n",
       "      <td>-0.138316</td>\n",
       "      <td>-0.208772</td>\n",
       "      <td>-0.069099</td>\n",
       "      <td>-0.155374</td>\n",
       "      <td>-0.152875</td>\n",
       "      <td>-0.169019</td>\n",
       "      <td>-0.096242</td>\n",
       "      <td>...</td>\n",
       "      <td>-0.184750</td>\n",
       "      <td>-0.332759</td>\n",
       "      <td>-0.325196</td>\n",
       "      <td>-0.255840</td>\n",
       "      <td>-0.052634</td>\n",
       "      <td>0.066562</td>\n",
       "      <td>0.578136</td>\n",
       "      <td>-0.025444</td>\n",
       "      <td>0.020006</td>\n",
       "      <td>-0.015226</td>\n",
       "    </tr>\n",
       "    <tr>\n",
       "      <th>HomePlanet_Europa</th>\n",
       "      <td>0.093395</td>\n",
       "      <td>0.217444</td>\n",
       "      <td>0.147008</td>\n",
       "      <td>-0.066635</td>\n",
       "      <td>0.365102</td>\n",
       "      <td>-0.021155</td>\n",
       "      <td>0.266103</td>\n",
       "      <td>0.282556</td>\n",
       "      <td>0.176916</td>\n",
       "      <td>0.132389</td>\n",
       "      <td>...</td>\n",
       "      <td>0.299343</td>\n",
       "      <td>0.538379</td>\n",
       "      <td>0.525633</td>\n",
       "      <td>0.080738</td>\n",
       "      <td>-0.077058</td>\n",
       "      <td>-0.392191</td>\n",
       "      <td>-0.368075</td>\n",
       "      <td>0.030943</td>\n",
       "      <td>-0.040700</td>\n",
       "      <td>0.034147</td>\n",
       "    </tr>\n",
       "    <tr>\n",
       "      <th>HomePlanet_Mars</th>\n",
       "      <td>0.032715</td>\n",
       "      <td>0.016081</td>\n",
       "      <td>0.043523</td>\n",
       "      <td>0.245222</td>\n",
       "      <td>-0.124755</td>\n",
       "      <td>0.111654</td>\n",
       "      <td>-0.087989</td>\n",
       "      <td>-0.111863</td>\n",
       "      <td>0.019544</td>\n",
       "      <td>-0.021261</td>\n",
       "      <td>...</td>\n",
       "      <td>-0.087734</td>\n",
       "      <td>-0.158020</td>\n",
       "      <td>-0.154428</td>\n",
       "      <td>0.232730</td>\n",
       "      <td>0.145291</td>\n",
       "      <td>0.333929</td>\n",
       "      <td>-0.325315</td>\n",
       "      <td>-0.012083</td>\n",
       "      <td>0.021160</td>\n",
       "      <td>-0.019279</td>\n",
       "    </tr>\n",
       "    <tr>\n",
       "      <th>Destination_55 Cancri e</th>\n",
       "      <td>0.065589</td>\n",
       "      <td>0.016709</td>\n",
       "      <td>0.045167</td>\n",
       "      <td>-0.023441</td>\n",
       "      <td>0.134952</td>\n",
       "      <td>-0.013739</td>\n",
       "      <td>0.075096</td>\n",
       "      <td>0.089667</td>\n",
       "      <td>0.108722</td>\n",
       "      <td>0.059228</td>\n",
       "      <td>...</td>\n",
       "      <td>0.092345</td>\n",
       "      <td>0.170658</td>\n",
       "      <td>0.164428</td>\n",
       "      <td>0.017465</td>\n",
       "      <td>-0.061667</td>\n",
       "      <td>-0.109746</td>\n",
       "      <td>-0.102701</td>\n",
       "      <td>-0.012259</td>\n",
       "      <td>-0.015286</td>\n",
       "      <td>0.010285</td>\n",
       "    </tr>\n",
       "    <tr>\n",
       "      <th>Destination_PSO J318.5-22</th>\n",
       "      <td>0.087764</td>\n",
       "      <td>-0.028247</td>\n",
       "      <td>-0.000592</td>\n",
       "      <td>-0.063354</td>\n",
       "      <td>-0.065400</td>\n",
       "      <td>-0.031245</td>\n",
       "      <td>-0.053303</td>\n",
       "      <td>-0.044861</td>\n",
       "      <td>0.000092</td>\n",
       "      <td>-0.057293</td>\n",
       "      <td>...</td>\n",
       "      <td>-0.050585</td>\n",
       "      <td>-0.095419</td>\n",
       "      <td>-0.078844</td>\n",
       "      <td>-0.046839</td>\n",
       "      <td>-0.051957</td>\n",
       "      <td>-0.012675</td>\n",
       "      <td>0.198374</td>\n",
       "      <td>-0.007616</td>\n",
       "      <td>0.006277</td>\n",
       "      <td>-0.006098</td>\n",
       "    </tr>\n",
       "    <tr>\n",
       "      <th>Destination_TRAPPIST-1e</th>\n",
       "      <td>-0.103213</td>\n",
       "      <td>-0.001036</td>\n",
       "      <td>-0.035309</td>\n",
       "      <td>0.060684</td>\n",
       "      <td>-0.073520</td>\n",
       "      <td>0.033063</td>\n",
       "      <td>-0.034497</td>\n",
       "      <td>-0.047011</td>\n",
       "      <td>-0.094700</td>\n",
       "      <td>-0.014721</td>\n",
       "      <td>...</td>\n",
       "      <td>-0.046972</td>\n",
       "      <td>-0.089873</td>\n",
       "      <td>-0.090912</td>\n",
       "      <td>0.013802</td>\n",
       "      <td>0.081903</td>\n",
       "      <td>0.098711</td>\n",
       "      <td>-0.028810</td>\n",
       "      <td>0.016440</td>\n",
       "      <td>0.009923</td>\n",
       "      <td>-0.005771</td>\n",
       "    </tr>\n",
       "    <tr>\n",
       "      <th>Deck_A</th>\n",
       "      <td>-0.030594</td>\n",
       "      <td>0.074245</td>\n",
       "      <td>0.132574</td>\n",
       "      <td>-0.022937</td>\n",
       "      <td>0.119327</td>\n",
       "      <td>-0.017335</td>\n",
       "      <td>0.060152</td>\n",
       "      <td>0.096177</td>\n",
       "      <td>-0.002623</td>\n",
       "      <td>0.038748</td>\n",
       "      <td>...</td>\n",
       "      <td>1.000000</td>\n",
       "      <td>-0.054651</td>\n",
       "      <td>-0.053409</td>\n",
       "      <td>-0.042018</td>\n",
       "      <td>-0.058312</td>\n",
       "      <td>-0.119881</td>\n",
       "      <td>-0.112510</td>\n",
       "      <td>-0.004179</td>\n",
       "      <td>-0.009344</td>\n",
       "      <td>0.017316</td>\n",
       "    </tr>\n",
       "    <tr>\n",
       "      <th>Deck_B</th>\n",
       "      <td>0.124049</td>\n",
       "      <td>0.103166</td>\n",
       "      <td>0.065080</td>\n",
       "      <td>-0.064536</td>\n",
       "      <td>0.155351</td>\n",
       "      <td>-0.010750</td>\n",
       "      <td>0.114257</td>\n",
       "      <td>0.122644</td>\n",
       "      <td>0.144733</td>\n",
       "      <td>0.079807</td>\n",
       "      <td>...</td>\n",
       "      <td>-0.054651</td>\n",
       "      <td>1.000000</td>\n",
       "      <td>-0.096196</td>\n",
       "      <td>-0.075680</td>\n",
       "      <td>-0.105027</td>\n",
       "      <td>-0.215921</td>\n",
       "      <td>-0.202644</td>\n",
       "      <td>-0.007527</td>\n",
       "      <td>-0.019269</td>\n",
       "      <td>0.033626</td>\n",
       "    </tr>\n",
       "    <tr>\n",
       "      <th>Deck_C</th>\n",
       "      <td>0.028433</td>\n",
       "      <td>0.126428</td>\n",
       "      <td>0.065591</td>\n",
       "      <td>-0.019494</td>\n",
       "      <td>0.257511</td>\n",
       "      <td>0.000906</td>\n",
       "      <td>0.163670</td>\n",
       "      <td>0.206639</td>\n",
       "      <td>0.108193</td>\n",
       "      <td>0.104512</td>\n",
       "      <td>...</td>\n",
       "      <td>-0.053409</td>\n",
       "      <td>-0.096196</td>\n",
       "      <td>1.000000</td>\n",
       "      <td>-0.073960</td>\n",
       "      <td>-0.102640</td>\n",
       "      <td>-0.211013</td>\n",
       "      <td>-0.198038</td>\n",
       "      <td>-0.007355</td>\n",
       "      <td>-0.016777</td>\n",
       "      <td>0.030809</td>\n",
       "    </tr>\n",
       "    <tr>\n",
       "      <th>Deck_D</th>\n",
       "      <td>-0.066678</td>\n",
       "      <td>0.077091</td>\n",
       "      <td>0.067678</td>\n",
       "      <td>0.160699</td>\n",
       "      <td>0.020128</td>\n",
       "      <td>0.054823</td>\n",
       "      <td>0.033486</td>\n",
       "      <td>-0.003542</td>\n",
       "      <td>-0.034046</td>\n",
       "      <td>-0.005688</td>\n",
       "      <td>...</td>\n",
       "      <td>-0.042018</td>\n",
       "      <td>-0.075680</td>\n",
       "      <td>-0.073960</td>\n",
       "      <td>1.000000</td>\n",
       "      <td>-0.080750</td>\n",
       "      <td>-0.166010</td>\n",
       "      <td>-0.155802</td>\n",
       "      <td>-0.005787</td>\n",
       "      <td>0.016890</td>\n",
       "      <td>-0.005837</td>\n",
       "    </tr>\n",
       "    <tr>\n",
       "      <th>Deck_E</th>\n",
       "      <td>-0.110644</td>\n",
       "      <td>0.028312</td>\n",
       "      <td>-0.012912</td>\n",
       "      <td>0.043935</td>\n",
       "      <td>-0.038889</td>\n",
       "      <td>0.031747</td>\n",
       "      <td>-0.011736</td>\n",
       "      <td>-0.017905</td>\n",
       "      <td>-0.097965</td>\n",
       "      <td>-0.064911</td>\n",
       "      <td>...</td>\n",
       "      <td>-0.058312</td>\n",
       "      <td>-0.105027</td>\n",
       "      <td>-0.102640</td>\n",
       "      <td>-0.080750</td>\n",
       "      <td>1.000000</td>\n",
       "      <td>-0.230386</td>\n",
       "      <td>-0.216220</td>\n",
       "      <td>-0.008031</td>\n",
       "      <td>0.003944</td>\n",
       "      <td>0.011385</td>\n",
       "    </tr>\n",
       "    <tr>\n",
       "      <th>Deck_F</th>\n",
       "      <td>-0.220150</td>\n",
       "      <td>-0.018762</td>\n",
       "      <td>-0.057578</td>\n",
       "      <td>0.085627</td>\n",
       "      <td>-0.131988</td>\n",
       "      <td>0.074473</td>\n",
       "      <td>-0.087538</td>\n",
       "      <td>-0.094548</td>\n",
       "      <td>-0.087753</td>\n",
       "      <td>-0.124731</td>\n",
       "      <td>...</td>\n",
       "      <td>-0.119881</td>\n",
       "      <td>-0.215921</td>\n",
       "      <td>-0.211013</td>\n",
       "      <td>-0.166010</td>\n",
       "      <td>-0.230386</td>\n",
       "      <td>1.000000</td>\n",
       "      <td>-0.444516</td>\n",
       "      <td>-0.016510</td>\n",
       "      <td>0.042467</td>\n",
       "      <td>-0.010936</td>\n",
       "    </tr>\n",
       "    <tr>\n",
       "      <th>Deck_G</th>\n",
       "      <td>0.241399</td>\n",
       "      <td>-0.209792</td>\n",
       "      <td>-0.098863</td>\n",
       "      <td>-0.145289</td>\n",
       "      <td>-0.149911</td>\n",
       "      <td>-0.108538</td>\n",
       "      <td>-0.124342</td>\n",
       "      <td>-0.127434</td>\n",
       "      <td>0.016269</td>\n",
       "      <td>0.039220</td>\n",
       "      <td>...</td>\n",
       "      <td>-0.112510</td>\n",
       "      <td>-0.202644</td>\n",
       "      <td>-0.198038</td>\n",
       "      <td>-0.155802</td>\n",
       "      <td>-0.216220</td>\n",
       "      <td>-0.444516</td>\n",
       "      <td>1.000000</td>\n",
       "      <td>-0.015495</td>\n",
       "      <td>0.019122</td>\n",
       "      <td>0.010461</td>\n",
       "    </tr>\n",
       "    <tr>\n",
       "      <th>Deck_T</th>\n",
       "      <td>-0.017579</td>\n",
       "      <td>0.013673</td>\n",
       "      <td>-0.003672</td>\n",
       "      <td>0.007525</td>\n",
       "      <td>0.014267</td>\n",
       "      <td>-0.006787</td>\n",
       "      <td>0.036316</td>\n",
       "      <td>0.012369</td>\n",
       "      <td>-0.014568</td>\n",
       "      <td>-0.015563</td>\n",
       "      <td>...</td>\n",
       "      <td>-0.004179</td>\n",
       "      <td>-0.007527</td>\n",
       "      <td>-0.007355</td>\n",
       "      <td>-0.005787</td>\n",
       "      <td>-0.008031</td>\n",
       "      <td>-0.016510</td>\n",
       "      <td>-0.015495</td>\n",
       "      <td>1.000000</td>\n",
       "      <td>0.015177</td>\n",
       "      <td>-0.014072</td>\n",
       "    </tr>\n",
       "    <tr>\n",
       "      <th>Side_P</th>\n",
       "      <td>-0.023858</td>\n",
       "      <td>-0.011758</td>\n",
       "      <td>0.008798</td>\n",
       "      <td>0.006991</td>\n",
       "      <td>-0.019682</td>\n",
       "      <td>0.020940</td>\n",
       "      <td>-0.005700</td>\n",
       "      <td>0.009089</td>\n",
       "      <td>-0.101397</td>\n",
       "      <td>-0.017522</td>\n",
       "      <td>...</td>\n",
       "      <td>-0.009344</td>\n",
       "      <td>-0.019269</td>\n",
       "      <td>-0.016777</td>\n",
       "      <td>0.016890</td>\n",
       "      <td>0.003944</td>\n",
       "      <td>0.042467</td>\n",
       "      <td>0.019122</td>\n",
       "      <td>0.015177</td>\n",
       "      <td>1.000000</td>\n",
       "      <td>-0.955237</td>\n",
       "    </tr>\n",
       "    <tr>\n",
       "      <th>Side_S</th>\n",
       "      <td>0.016861</td>\n",
       "      <td>0.010749</td>\n",
       "      <td>-0.011017</td>\n",
       "      <td>-0.014918</td>\n",
       "      <td>0.019625</td>\n",
       "      <td>-0.018018</td>\n",
       "      <td>-0.002116</td>\n",
       "      <td>-0.006950</td>\n",
       "      <td>0.101455</td>\n",
       "      <td>0.011615</td>\n",
       "      <td>...</td>\n",
       "      <td>0.017316</td>\n",
       "      <td>0.033626</td>\n",
       "      <td>0.030809</td>\n",
       "      <td>-0.005837</td>\n",
       "      <td>0.011385</td>\n",
       "      <td>-0.010936</td>\n",
       "      <td>0.010461</td>\n",
       "      <td>-0.014072</td>\n",
       "      <td>-0.955237</td>\n",
       "      <td>1.000000</td>\n",
       "    </tr>\n",
       "  </tbody>\n",
       "</table>\n",
       "<p>26 rows × 26 columns</p>\n",
       "</div>"
      ],
      "text/plain": [
       "                           CryoSleep       Age       VIP  RoomService  \\\n",
       "CryoSleep                   1.000000 -0.070736 -0.078281    -0.244089   \n",
       "Age                        -0.070736  1.000000  0.091574     0.068425   \n",
       "VIP                        -0.078281  0.091574  1.000000     0.056566   \n",
       "RoomService                -0.244089  0.068425  0.056566     1.000000   \n",
       "FoodCourt                  -0.205928  0.127343  0.125499    -0.015126   \n",
       "ShoppingMall               -0.207798  0.032846  0.018412     0.052337   \n",
       "Spa                        -0.198307  0.121071  0.060991     0.009244   \n",
       "VRDeck                     -0.192721  0.099551  0.123061    -0.018624   \n",
       "Transported                 0.460132 -0.074249 -0.037261    -0.241124   \n",
       "Total Room Occupants        0.079363 -0.176833  0.002856    -0.039734   \n",
       "HomePlanet_Earth           -0.109133 -0.200235 -0.162341    -0.138316   \n",
       "HomePlanet_Europa           0.093395  0.217444  0.147008    -0.066635   \n",
       "HomePlanet_Mars             0.032715  0.016081  0.043523     0.245222   \n",
       "Destination_55 Cancri e     0.065589  0.016709  0.045167    -0.023441   \n",
       "Destination_PSO J318.5-22   0.087764 -0.028247 -0.000592    -0.063354   \n",
       "Destination_TRAPPIST-1e    -0.103213 -0.001036 -0.035309     0.060684   \n",
       "Deck_A                     -0.030594  0.074245  0.132574    -0.022937   \n",
       "Deck_B                      0.124049  0.103166  0.065080    -0.064536   \n",
       "Deck_C                      0.028433  0.126428  0.065591    -0.019494   \n",
       "Deck_D                     -0.066678  0.077091  0.067678     0.160699   \n",
       "Deck_E                     -0.110644  0.028312 -0.012912     0.043935   \n",
       "Deck_F                     -0.220150 -0.018762 -0.057578     0.085627   \n",
       "Deck_G                      0.241399 -0.209792 -0.098863    -0.145289   \n",
       "Deck_T                     -0.017579  0.013673 -0.003672     0.007525   \n",
       "Side_P                     -0.023858 -0.011758  0.008798     0.006991   \n",
       "Side_S                      0.016861  0.010749 -0.011017    -0.014918   \n",
       "\n",
       "                           FoodCourt  ShoppingMall       Spa    VRDeck  \\\n",
       "CryoSleep                  -0.205928     -0.207798 -0.198307 -0.192721   \n",
       "Age                         0.127343      0.032846  0.121071  0.099551   \n",
       "VIP                         0.125499      0.018412  0.060991  0.123061   \n",
       "RoomService                -0.015126      0.052337  0.009244 -0.018624   \n",
       "FoodCourt                   1.000000     -0.013717  0.221468  0.224572   \n",
       "ShoppingMall               -0.013717      1.000000  0.014542 -0.007849   \n",
       "Spa                         0.221468      0.014542  1.000000  0.147658   \n",
       "VRDeck                      0.224572     -0.007849  0.147658  1.000000   \n",
       "Transported                 0.045583      0.009391 -0.218545 -0.204874   \n",
       "Total Room Occupants        0.032502     -0.038536  0.019218  0.009130   \n",
       "HomePlanet_Earth           -0.208772     -0.069099 -0.155374 -0.152875   \n",
       "HomePlanet_Europa           0.365102     -0.021155  0.266103  0.282556   \n",
       "HomePlanet_Mars            -0.124755      0.111654 -0.087989 -0.111863   \n",
       "Destination_55 Cancri e     0.134952     -0.013739  0.075096  0.089667   \n",
       "Destination_PSO J318.5-22  -0.065400     -0.031245 -0.053303 -0.044861   \n",
       "Destination_TRAPPIST-1e    -0.073520      0.033063 -0.034497 -0.047011   \n",
       "Deck_A                      0.119327     -0.017335  0.060152  0.096177   \n",
       "Deck_B                      0.155351     -0.010750  0.114257  0.122644   \n",
       "Deck_C                      0.257511      0.000906  0.163670  0.206639   \n",
       "Deck_D                      0.020128      0.054823  0.033486 -0.003542   \n",
       "Deck_E                     -0.038889      0.031747 -0.011736 -0.017905   \n",
       "Deck_F                     -0.131988      0.074473 -0.087538 -0.094548   \n",
       "Deck_G                     -0.149911     -0.108538 -0.124342 -0.127434   \n",
       "Deck_T                      0.014267     -0.006787  0.036316  0.012369   \n",
       "Side_P                     -0.019682      0.020940 -0.005700  0.009089   \n",
       "Side_S                      0.019625     -0.018018 -0.002116 -0.006950   \n",
       "\n",
       "                           Transported  Total Room Occupants  ...    Deck_A  \\\n",
       "CryoSleep                     0.460132              0.079363  ... -0.030594   \n",
       "Age                          -0.074249             -0.176833  ...  0.074245   \n",
       "VIP                          -0.037261              0.002856  ...  0.132574   \n",
       "RoomService                  -0.241124             -0.039734  ... -0.022937   \n",
       "FoodCourt                     0.045583              0.032502  ...  0.119327   \n",
       "ShoppingMall                  0.009391             -0.038536  ... -0.017335   \n",
       "Spa                          -0.218545              0.019218  ...  0.060152   \n",
       "VRDeck                       -0.204874              0.009130  ...  0.096177   \n",
       "Transported                   1.000000              0.082644  ... -0.002623   \n",
       "Total Room Occupants          0.082644              1.000000  ...  0.038748   \n",
       "HomePlanet_Earth             -0.169019             -0.096242  ... -0.184750   \n",
       "HomePlanet_Europa             0.176916              0.132389  ...  0.299343   \n",
       "HomePlanet_Mars               0.019544             -0.021261  ... -0.087734   \n",
       "Destination_55 Cancri e       0.108722              0.059228  ...  0.092345   \n",
       "Destination_PSO J318.5-22     0.000092             -0.057293  ... -0.050585   \n",
       "Destination_TRAPPIST-1e      -0.094700             -0.014721  ... -0.046972   \n",
       "Deck_A                       -0.002623              0.038748  ...  1.000000   \n",
       "Deck_B                        0.144733              0.079807  ... -0.054651   \n",
       "Deck_C                        0.108193              0.104512  ... -0.053409   \n",
       "Deck_D                       -0.034046             -0.005688  ... -0.042018   \n",
       "Deck_E                       -0.097965             -0.064911  ... -0.058312   \n",
       "Deck_F                       -0.087753             -0.124731  ... -0.119881   \n",
       "Deck_G                        0.016269              0.039220  ... -0.112510   \n",
       "Deck_T                       -0.014568             -0.015563  ... -0.004179   \n",
       "Side_P                       -0.101397             -0.017522  ... -0.009344   \n",
       "Side_S                        0.101455              0.011615  ...  0.017316   \n",
       "\n",
       "                             Deck_B    Deck_C    Deck_D    Deck_E    Deck_F  \\\n",
       "CryoSleep                  0.124049  0.028433 -0.066678 -0.110644 -0.220150   \n",
       "Age                        0.103166  0.126428  0.077091  0.028312 -0.018762   \n",
       "VIP                        0.065080  0.065591  0.067678 -0.012912 -0.057578   \n",
       "RoomService               -0.064536 -0.019494  0.160699  0.043935  0.085627   \n",
       "FoodCourt                  0.155351  0.257511  0.020128 -0.038889 -0.131988   \n",
       "ShoppingMall              -0.010750  0.000906  0.054823  0.031747  0.074473   \n",
       "Spa                        0.114257  0.163670  0.033486 -0.011736 -0.087538   \n",
       "VRDeck                     0.122644  0.206639 -0.003542 -0.017905 -0.094548   \n",
       "Transported                0.144733  0.108193 -0.034046 -0.097965 -0.087753   \n",
       "Total Room Occupants       0.079807  0.104512 -0.005688 -0.064911 -0.124731   \n",
       "HomePlanet_Earth          -0.332759 -0.325196 -0.255840 -0.052634  0.066562   \n",
       "HomePlanet_Europa          0.538379  0.525633  0.080738 -0.077058 -0.392191   \n",
       "HomePlanet_Mars           -0.158020 -0.154428  0.232730  0.145291  0.333929   \n",
       "Destination_55 Cancri e    0.170658  0.164428  0.017465 -0.061667 -0.109746   \n",
       "Destination_PSO J318.5-22 -0.095419 -0.078844 -0.046839 -0.051957 -0.012675   \n",
       "Destination_TRAPPIST-1e   -0.089873 -0.090912  0.013802  0.081903  0.098711   \n",
       "Deck_A                    -0.054651 -0.053409 -0.042018 -0.058312 -0.119881   \n",
       "Deck_B                     1.000000 -0.096196 -0.075680 -0.105027 -0.215921   \n",
       "Deck_C                    -0.096196  1.000000 -0.073960 -0.102640 -0.211013   \n",
       "Deck_D                    -0.075680 -0.073960  1.000000 -0.080750 -0.166010   \n",
       "Deck_E                    -0.105027 -0.102640 -0.080750  1.000000 -0.230386   \n",
       "Deck_F                    -0.215921 -0.211013 -0.166010 -0.230386  1.000000   \n",
       "Deck_G                    -0.202644 -0.198038 -0.155802 -0.216220 -0.444516   \n",
       "Deck_T                    -0.007527 -0.007355 -0.005787 -0.008031 -0.016510   \n",
       "Side_P                    -0.019269 -0.016777  0.016890  0.003944  0.042467   \n",
       "Side_S                     0.033626  0.030809 -0.005837  0.011385 -0.010936   \n",
       "\n",
       "                             Deck_G    Deck_T    Side_P    Side_S  \n",
       "CryoSleep                  0.241399 -0.017579 -0.023858  0.016861  \n",
       "Age                       -0.209792  0.013673 -0.011758  0.010749  \n",
       "VIP                       -0.098863 -0.003672  0.008798 -0.011017  \n",
       "RoomService               -0.145289  0.007525  0.006991 -0.014918  \n",
       "FoodCourt                 -0.149911  0.014267 -0.019682  0.019625  \n",
       "ShoppingMall              -0.108538 -0.006787  0.020940 -0.018018  \n",
       "Spa                       -0.124342  0.036316 -0.005700 -0.002116  \n",
       "VRDeck                    -0.127434  0.012369  0.009089 -0.006950  \n",
       "Transported                0.016269 -0.014568 -0.101397  0.101455  \n",
       "Total Room Occupants       0.039220 -0.015563 -0.017522  0.011615  \n",
       "HomePlanet_Earth           0.578136 -0.025444  0.020006 -0.015226  \n",
       "HomePlanet_Europa         -0.368075  0.030943 -0.040700  0.034147  \n",
       "HomePlanet_Mars           -0.325315 -0.012083  0.021160 -0.019279  \n",
       "Destination_55 Cancri e   -0.102701 -0.012259 -0.015286  0.010285  \n",
       "Destination_PSO J318.5-22  0.198374 -0.007616  0.006277 -0.006098  \n",
       "Destination_TRAPPIST-1e   -0.028810  0.016440  0.009923 -0.005771  \n",
       "Deck_A                    -0.112510 -0.004179 -0.009344  0.017316  \n",
       "Deck_B                    -0.202644 -0.007527 -0.019269  0.033626  \n",
       "Deck_C                    -0.198038 -0.007355 -0.016777  0.030809  \n",
       "Deck_D                    -0.155802 -0.005787  0.016890 -0.005837  \n",
       "Deck_E                    -0.216220 -0.008031  0.003944  0.011385  \n",
       "Deck_F                    -0.444516 -0.016510  0.042467 -0.010936  \n",
       "Deck_G                     1.000000 -0.015495  0.019122  0.010461  \n",
       "Deck_T                    -0.015495  1.000000  0.015177 -0.014072  \n",
       "Side_P                     0.019122  0.015177  1.000000 -0.955237  \n",
       "Side_S                     0.010461 -0.014072 -0.955237  1.000000  \n",
       "\n",
       "[26 rows x 26 columns]"
      ]
     },
     "execution_count": 16,
     "metadata": {},
     "output_type": "execute_result"
    }
   ],
   "source": [
    "# View the correlations\n",
    "df.corr()"
   ]
  },
  {
   "cell_type": "code",
   "execution_count": 17,
   "id": "78753ee3",
   "metadata": {},
   "outputs": [
    {
     "data": {
      "text/plain": [
       "1    4378\n",
       "0    4315\n",
       "Name: Transported, dtype: int64"
      ]
     },
     "execution_count": 17,
     "metadata": {},
     "output_type": "execute_result"
    }
   ],
   "source": [
    "# View the distribution of Transported\n",
    "df['Transported'].value_counts()"
   ]
  },
  {
   "cell_type": "markdown",
   "id": "ccd9011a",
   "metadata": {},
   "source": [
    "The dataset is fairly balanced"
   ]
  },
  {
   "cell_type": "markdown",
   "id": "539f90b0",
   "metadata": {},
   "source": [
    "# Building the model - Logistic Regression"
   ]
  },
  {
   "cell_type": "code",
   "execution_count": 18,
   "id": "d2b05580",
   "metadata": {},
   "outputs": [],
   "source": [
    "# Build training and test datasets\n",
    "x = df.drop(['Transported'], axis=1)\n",
    "y = df['Transported']\n",
    "x_train, x_test, y_train, y_test = train_test_split(x, y, test_size = 0.2, random_state=711)"
   ]
  },
  {
   "cell_type": "code",
   "execution_count": 19,
   "id": "15814718",
   "metadata": {},
   "outputs": [],
   "source": [
    "# Load libraries\n",
    "from sklearn.linear_model import LogisticRegression"
   ]
  },
  {
   "cell_type": "code",
   "execution_count": 20,
   "id": "9b480b69",
   "metadata": {},
   "outputs": [],
   "source": [
    "# Setup an instance of the model\n",
    "model = LogisticRegression(max_iter=10000)"
   ]
  },
  {
   "cell_type": "code",
   "execution_count": 21,
   "id": "cecf9e13",
   "metadata": {},
   "outputs": [
    {
     "data": {
      "text/html": [
       "<style>#sk-container-id-1 {color: black;background-color: white;}#sk-container-id-1 pre{padding: 0;}#sk-container-id-1 div.sk-toggleable {background-color: white;}#sk-container-id-1 label.sk-toggleable__label {cursor: pointer;display: block;width: 100%;margin-bottom: 0;padding: 0.3em;box-sizing: border-box;text-align: center;}#sk-container-id-1 label.sk-toggleable__label-arrow:before {content: \"▸\";float: left;margin-right: 0.25em;color: #696969;}#sk-container-id-1 label.sk-toggleable__label-arrow:hover:before {color: black;}#sk-container-id-1 div.sk-estimator:hover label.sk-toggleable__label-arrow:before {color: black;}#sk-container-id-1 div.sk-toggleable__content {max-height: 0;max-width: 0;overflow: hidden;text-align: left;background-color: #f0f8ff;}#sk-container-id-1 div.sk-toggleable__content pre {margin: 0.2em;color: black;border-radius: 0.25em;background-color: #f0f8ff;}#sk-container-id-1 input.sk-toggleable__control:checked~div.sk-toggleable__content {max-height: 200px;max-width: 100%;overflow: auto;}#sk-container-id-1 input.sk-toggleable__control:checked~label.sk-toggleable__label-arrow:before {content: \"▾\";}#sk-container-id-1 div.sk-estimator input.sk-toggleable__control:checked~label.sk-toggleable__label {background-color: #d4ebff;}#sk-container-id-1 div.sk-label input.sk-toggleable__control:checked~label.sk-toggleable__label {background-color: #d4ebff;}#sk-container-id-1 input.sk-hidden--visually {border: 0;clip: rect(1px 1px 1px 1px);clip: rect(1px, 1px, 1px, 1px);height: 1px;margin: -1px;overflow: hidden;padding: 0;position: absolute;width: 1px;}#sk-container-id-1 div.sk-estimator {font-family: monospace;background-color: #f0f8ff;border: 1px dotted black;border-radius: 0.25em;box-sizing: border-box;margin-bottom: 0.5em;}#sk-container-id-1 div.sk-estimator:hover {background-color: #d4ebff;}#sk-container-id-1 div.sk-parallel-item::after {content: \"\";width: 100%;border-bottom: 1px solid gray;flex-grow: 1;}#sk-container-id-1 div.sk-label:hover label.sk-toggleable__label {background-color: #d4ebff;}#sk-container-id-1 div.sk-serial::before {content: \"\";position: absolute;border-left: 1px solid gray;box-sizing: border-box;top: 0;bottom: 0;left: 50%;z-index: 0;}#sk-container-id-1 div.sk-serial {display: flex;flex-direction: column;align-items: center;background-color: white;padding-right: 0.2em;padding-left: 0.2em;position: relative;}#sk-container-id-1 div.sk-item {position: relative;z-index: 1;}#sk-container-id-1 div.sk-parallel {display: flex;align-items: stretch;justify-content: center;background-color: white;position: relative;}#sk-container-id-1 div.sk-item::before, #sk-container-id-1 div.sk-parallel-item::before {content: \"\";position: absolute;border-left: 1px solid gray;box-sizing: border-box;top: 0;bottom: 0;left: 50%;z-index: -1;}#sk-container-id-1 div.sk-parallel-item {display: flex;flex-direction: column;z-index: 1;position: relative;background-color: white;}#sk-container-id-1 div.sk-parallel-item:first-child::after {align-self: flex-end;width: 50%;}#sk-container-id-1 div.sk-parallel-item:last-child::after {align-self: flex-start;width: 50%;}#sk-container-id-1 div.sk-parallel-item:only-child::after {width: 0;}#sk-container-id-1 div.sk-dashed-wrapped {border: 1px dashed gray;margin: 0 0.4em 0.5em 0.4em;box-sizing: border-box;padding-bottom: 0.4em;background-color: white;}#sk-container-id-1 div.sk-label label {font-family: monospace;font-weight: bold;display: inline-block;line-height: 1.2em;}#sk-container-id-1 div.sk-label-container {text-align: center;}#sk-container-id-1 div.sk-container {/* jupyter's `normalize.less` sets `[hidden] { display: none; }` but bootstrap.min.css set `[hidden] { display: none !important; }` so we also need the `!important` here to be able to override the default hidden behavior on the sphinx rendered scikit-learn.org. See: https://github.com/scikit-learn/scikit-learn/issues/21755 */display: inline-block !important;position: relative;}#sk-container-id-1 div.sk-text-repr-fallback {display: none;}</style><div id=\"sk-container-id-1\" class=\"sk-top-container\"><div class=\"sk-text-repr-fallback\"><pre>LogisticRegression(max_iter=10000)</pre><b>In a Jupyter environment, please rerun this cell to show the HTML representation or trust the notebook. <br />On GitHub, the HTML representation is unable to render, please try loading this page with nbviewer.org.</b></div><div class=\"sk-container\" hidden><div class=\"sk-item\"><div class=\"sk-estimator sk-toggleable\"><input class=\"sk-toggleable__control sk-hidden--visually\" id=\"sk-estimator-id-1\" type=\"checkbox\" checked><label for=\"sk-estimator-id-1\" class=\"sk-toggleable__label sk-toggleable__label-arrow\">LogisticRegression</label><div class=\"sk-toggleable__content\"><pre>LogisticRegression(max_iter=10000)</pre></div></div></div></div></div>"
      ],
      "text/plain": [
       "LogisticRegression(max_iter=10000)"
      ]
     },
     "execution_count": 21,
     "metadata": {},
     "output_type": "execute_result"
    }
   ],
   "source": [
    "# Fit the model\n",
    "model.fit(x_train, y_train)"
   ]
  },
  {
   "cell_type": "markdown",
   "id": "9b5ee20d",
   "metadata": {},
   "source": [
    "# Evaluating the model - Logistic Regression"
   ]
  },
  {
   "cell_type": "code",
   "execution_count": 22,
   "id": "c309376e",
   "metadata": {},
   "outputs": [],
   "source": [
    "# Load libraries\n",
    "from sklearn.metrics import accuracy_score\n",
    "from sklearn.metrics import confusion_matrix"
   ]
  },
  {
   "cell_type": "code",
   "execution_count": 23,
   "id": "76f99457",
   "metadata": {},
   "outputs": [],
   "source": [
    "# Build predictions\n",
    "predictions = model.predict(x_test)"
   ]
  },
  {
   "cell_type": "code",
   "execution_count": 24,
   "id": "f69e0d06",
   "metadata": {},
   "outputs": [
    {
     "data": {
      "text/plain": [
       "0.7941345600920069"
      ]
     },
     "execution_count": 24,
     "metadata": {},
     "output_type": "execute_result"
    }
   ],
   "source": [
    "# Calculate accuracy score\n",
    "accuracy_score(y_test, predictions)"
   ]
  },
  {
   "cell_type": "code",
   "execution_count": 25,
   "id": "27a72e21",
   "metadata": {},
   "outputs": [
    {
     "data": {
      "text/plain": [
       "[Text(0, 0.5, 'Safe'), Text(0, 1.5, 'Transported')]"
      ]
     },
     "execution_count": 25,
     "metadata": {},
     "output_type": "execute_result"
    },
    {
     "data": {
      "image/png": "[encoded data removed]",
      "text/plain": [
       "<Figure size 432x288 with 1 Axes>"
      ]
     },
     "metadata": {
      "needs_background": "light"
     },
     "output_type": "display_data"
    }
   ],
   "source": [
    "# Build a confusion matrix of the results\n",
    "matrix = confusion_matrix(y_test, predictions)\n",
    "\n",
    "# Create pandas df\n",
    "cm_df = pd.DataFrame(matrix)\n",
    "\n",
    "# Create heatmap\n",
    "ax= plt.subplot()\n",
    "sns.heatmap(cm_df, annot=True, cbar=None, cmap=\"Blues\", ax=ax)\n",
    "ax.set_title(\"Logistic Regression Confusion Matrix\")\n",
    "ax.set_ylabel(\"True Value\"), ax.set_xlabel(\"Predicted Value\")\n",
    "ax.xaxis.set_ticklabels(['Safe', 'Transported']); ax.yaxis.set_ticklabels(['Safe', 'Transported'])"
   ]
  },
  {
   "cell_type": "markdown",
   "id": "44a26a6a",
   "metadata": {},
   "source": [
    "Overall the model was 79.4% accurate"
   ]
  },
  {
   "cell_type": "markdown",
   "id": "c80aa46a",
   "metadata": {},
   "source": [
    "# Building the model - Random Forest"
   ]
  },
  {
   "cell_type": "code",
   "execution_count": 26,
   "id": "4ae400ef",
   "metadata": {},
   "outputs": [],
   "source": [
    "# Load libraries\n",
    "from sklearn.ensemble import RandomForestClassifier"
   ]
  },
  {
   "cell_type": "code",
   "execution_count": 27,
   "id": "48378fa4",
   "metadata": {},
   "outputs": [],
   "source": [
    "# Setup an instance of the model\n",
    "rf = RandomForestClassifier(n_estimators=10000, random_state=711, n_jobs = -1)"
   ]
  },
  {
   "cell_type": "code",
   "execution_count": 28,
   "id": "2ef8ec13",
   "metadata": {},
   "outputs": [
    {
     "data": {
      "text/html": [
       "<style>#sk-container-id-2 {color: black;background-color: white;}#sk-container-id-2 pre{padding: 0;}#sk-container-id-2 div.sk-toggleable {background-color: white;}#sk-container-id-2 label.sk-toggleable__label {cursor: pointer;display: block;width: 100%;margin-bottom: 0;padding: 0.3em;box-sizing: border-box;text-align: center;}#sk-container-id-2 label.sk-toggleable__label-arrow:before {content: \"▸\";float: left;margin-right: 0.25em;color: #696969;}#sk-container-id-2 label.sk-toggleable__label-arrow:hover:before {color: black;}#sk-container-id-2 div.sk-estimator:hover label.sk-toggleable__label-arrow:before {color: black;}#sk-container-id-2 div.sk-toggleable__content {max-height: 0;max-width: 0;overflow: hidden;text-align: left;background-color: #f0f8ff;}#sk-container-id-2 div.sk-toggleable__content pre {margin: 0.2em;color: black;border-radius: 0.25em;background-color: #f0f8ff;}#sk-container-id-2 input.sk-toggleable__control:checked~div.sk-toggleable__content {max-height: 200px;max-width: 100%;overflow: auto;}#sk-container-id-2 input.sk-toggleable__control:checked~label.sk-toggleable__label-arrow:before {content: \"▾\";}#sk-container-id-2 div.sk-estimator input.sk-toggleable__control:checked~label.sk-toggleable__label {background-color: #d4ebff;}#sk-container-id-2 div.sk-label input.sk-toggleable__control:checked~label.sk-toggleable__label {background-color: #d4ebff;}#sk-container-id-2 input.sk-hidden--visually {border: 0;clip: rect(1px 1px 1px 1px);clip: rect(1px, 1px, 1px, 1px);height: 1px;margin: -1px;overflow: hidden;padding: 0;position: absolute;width: 1px;}#sk-container-id-2 div.sk-estimator {font-family: monospace;background-color: #f0f8ff;border: 1px dotted black;border-radius: 0.25em;box-sizing: border-box;margin-bottom: 0.5em;}#sk-container-id-2 div.sk-estimator:hover {background-color: #d4ebff;}#sk-container-id-2 div.sk-parallel-item::after {content: \"\";width: 100%;border-bottom: 1px solid gray;flex-grow: 1;}#sk-container-id-2 div.sk-label:hover label.sk-toggleable__label {background-color: #d4ebff;}#sk-container-id-2 div.sk-serial::before {content: \"\";position: absolute;border-left: 1px solid gray;box-sizing: border-box;top: 0;bottom: 0;left: 50%;z-index: 0;}#sk-container-id-2 div.sk-serial {display: flex;flex-direction: column;align-items: center;background-color: white;padding-right: 0.2em;padding-left: 0.2em;position: relative;}#sk-container-id-2 div.sk-item {position: relative;z-index: 1;}#sk-container-id-2 div.sk-parallel {display: flex;align-items: stretch;justify-content: center;background-color: white;position: relative;}#sk-container-id-2 div.sk-item::before, #sk-container-id-2 div.sk-parallel-item::before {content: \"\";position: absolute;border-left: 1px solid gray;box-sizing: border-box;top: 0;bottom: 0;left: 50%;z-index: -1;}#sk-container-id-2 div.sk-parallel-item {display: flex;flex-direction: column;z-index: 1;position: relative;background-color: white;}#sk-container-id-2 div.sk-parallel-item:first-child::after {align-self: flex-end;width: 50%;}#sk-container-id-2 div.sk-parallel-item:last-child::after {align-self: flex-start;width: 50%;}#sk-container-id-2 div.sk-parallel-item:only-child::after {width: 0;}#sk-container-id-2 div.sk-dashed-wrapped {border: 1px dashed gray;margin: 0 0.4em 0.5em 0.4em;box-sizing: border-box;padding-bottom: 0.4em;background-color: white;}#sk-container-id-2 div.sk-label label {font-family: monospace;font-weight: bold;display: inline-block;line-height: 1.2em;}#sk-container-id-2 div.sk-label-container {text-align: center;}#sk-container-id-2 div.sk-container {/* jupyter's `normalize.less` sets `[hidden] { display: none; }` but bootstrap.min.css set `[hidden] { display: none !important; }` so we also need the `!important` here to be able to override the default hidden behavior on the sphinx rendered scikit-learn.org. See: https://github.com/scikit-learn/scikit-learn/issues/21755 */display: inline-block !important;position: relative;}#sk-container-id-2 div.sk-text-repr-fallback {display: none;}</style><div id=\"sk-container-id-2\" class=\"sk-top-container\"><div class=\"sk-text-repr-fallback\"><pre>RandomForestClassifier(n_estimators=10000, n_jobs=-1, random_state=711)</pre><b>In a Jupyter environment, please rerun this cell to show the HTML representation or trust the notebook. <br />On GitHub, the HTML representation is unable to render, please try loading this page with nbviewer.org.</b></div><div class=\"sk-container\" hidden><div class=\"sk-item\"><div class=\"sk-estimator sk-toggleable\"><input class=\"sk-toggleable__control sk-hidden--visually\" id=\"sk-estimator-id-2\" type=\"checkbox\" checked><label for=\"sk-estimator-id-2\" class=\"sk-toggleable__label sk-toggleable__label-arrow\">RandomForestClassifier</label><div class=\"sk-toggleable__content\"><pre>RandomForestClassifier(n_estimators=10000, n_jobs=-1, random_state=711)</pre></div></div></div></div></div>"
      ],
      "text/plain": [
       "RandomForestClassifier(n_estimators=10000, n_jobs=-1, random_state=711)"
      ]
     },
     "execution_count": 28,
     "metadata": {},
     "output_type": "execute_result"
    }
   ],
   "source": [
    "# Train the model\n",
    "rf.fit(x_train, y_train)"
   ]
  },
  {
   "cell_type": "markdown",
   "id": "f213758a",
   "metadata": {},
   "source": [
    "# Evaluating the model - Random Forest"
   ]
  },
  {
   "cell_type": "code",
   "execution_count": 29,
   "id": "ca9eb300",
   "metadata": {},
   "outputs": [],
   "source": [
    "# Build predictions\n",
    "predictions_rf = rf.predict(x_test)"
   ]
  },
  {
   "cell_type": "code",
   "execution_count": 30,
   "id": "b3b09db6",
   "metadata": {},
   "outputs": [
    {
     "data": {
      "text/plain": [
       "0.7849338700402531"
      ]
     },
     "execution_count": 30,
     "metadata": {},
     "output_type": "execute_result"
    }
   ],
   "source": [
    "# Calculate accuracy score\n",
    "accuracy_score(y_test, predictions_rf)"
   ]
  },
  {
   "cell_type": "code",
   "execution_count": 31,
   "id": "166cc4c4",
   "metadata": {},
   "outputs": [
    {
     "data": {
      "text/plain": [
       "[Text(0, 0.5, 'Safe'), Text(0, 1.5, 'Transported')]"
      ]
     },
     "execution_count": 31,
     "metadata": {},
     "output_type": "execute_result"
    },
    {
     "data": {
      "image/png": "[encoded data removed]",
      "text/plain": [
       "<Figure size 432x288 with 1 Axes>"
      ]
     },
     "metadata": {
      "needs_background": "light"
     },
     "output_type": "display_data"
    }
   ],
   "source": [
    "# Build a confusion matrix of the results\n",
    "matrix_rf = confusion_matrix(y_test, predictions_rf)\n",
    "\n",
    "# Create pandas df\n",
    "cm_df_rf = pd.DataFrame(matrix_rf)\n",
    "\n",
    "# Create heatmap\n",
    "ax= plt.subplot()\n",
    "sns.heatmap(cm_df_rf, annot=True, cbar=None, cmap=\"Blues\", ax=ax)\n",
    "ax.set_title(\"Random Forest Confusion Matrix\")\n",
    "ax.set_ylabel(\"True Value\"), ax.set_xlabel(\"Predicted Value\")\n",
    "ax.xaxis.set_ticklabels(['Safe', 'Transported']); ax.yaxis.set_ticklabels(['Safe', 'Transported'])"
   ]
  },
  {
   "cell_type": "markdown",
   "id": "91e29cb7",
   "metadata": {},
   "source": [
    "Overall the random forest model was 78.5% accurate."
   ]
  },
  {
   "cell_type": "markdown",
   "id": "d8c260a3",
   "metadata": {},
   "source": [
    "# Building the Model - XGBoost"
   ]
  },
  {
   "cell_type": "code",
   "execution_count": 32,
   "id": "51aa0906",
   "metadata": {},
   "outputs": [],
   "source": [
    "# Load libraries\n",
    "from xgboost import XGBClassifier"
   ]
  },
  {
   "cell_type": "code",
   "execution_count": 33,
   "id": "5e4633de",
   "metadata": {},
   "outputs": [],
   "source": [
    "# Setup an instance of the model\n",
    "xgboost = XGBClassifier()"
   ]
  },
  {
   "cell_type": "code",
   "execution_count": 34,
   "id": "8deaa08e",
   "metadata": {},
   "outputs": [
    {
     "data": {
      "text/html": [
       "<style>#sk-container-id-3 {color: black;background-color: white;}#sk-container-id-3 pre{padding: 0;}#sk-container-id-3 div.sk-toggleable {background-color: white;}#sk-container-id-3 label.sk-toggleable__label {cursor: pointer;display: block;width: 100%;margin-bottom: 0;padding: 0.3em;box-sizing: border-box;text-align: center;}#sk-container-id-3 label.sk-toggleable__label-arrow:before {content: \"▸\";float: left;margin-right: 0.25em;color: #696969;}#sk-container-id-3 label.sk-toggleable__label-arrow:hover:before {color: black;}#sk-container-id-3 div.sk-estimator:hover label.sk-toggleable__label-arrow:before {color: black;}#sk-container-id-3 div.sk-toggleable__content {max-height: 0;max-width: 0;overflow: hidden;text-align: left;background-color: #f0f8ff;}#sk-container-id-3 div.sk-toggleable__content pre {margin: 0.2em;color: black;border-radius: 0.25em;background-color: #f0f8ff;}#sk-container-id-3 input.sk-toggleable__control:checked~div.sk-toggleable__content {max-height: 200px;max-width: 100%;overflow: auto;}#sk-container-id-3 input.sk-toggleable__control:checked~label.sk-toggleable__label-arrow:before {content: \"▾\";}#sk-container-id-3 div.sk-estimator input.sk-toggleable__control:checked~label.sk-toggleable__label {background-color: #d4ebff;}#sk-container-id-3 div.sk-label input.sk-toggleable__control:checked~label.sk-toggleable__label {background-color: #d4ebff;}#sk-container-id-3 input.sk-hidden--visually {border: 0;clip: rect(1px 1px 1px 1px);clip: rect(1px, 1px, 1px, 1px);height: 1px;margin: -1px;overflow: hidden;padding: 0;position: absolute;width: 1px;}#sk-container-id-3 div.sk-estimator {font-family: monospace;background-color: #f0f8ff;border: 1px dotted black;border-radius: 0.25em;box-sizing: border-box;margin-bottom: 0.5em;}#sk-container-id-3 div.sk-estimator:hover {background-color: #d4ebff;}#sk-container-id-3 div.sk-parallel-item::after {content: \"\";width: 100%;border-bottom: 1px solid gray;flex-grow: 1;}#sk-container-id-3 div.sk-label:hover label.sk-toggleable__label {background-color: #d4ebff;}#sk-container-id-3 div.sk-serial::before {content: \"\";position: absolute;border-left: 1px solid gray;box-sizing: border-box;top: 0;bottom: 0;left: 50%;z-index: 0;}#sk-container-id-3 div.sk-serial {display: flex;flex-direction: column;align-items: center;background-color: white;padding-right: 0.2em;padding-left: 0.2em;position: relative;}#sk-container-id-3 div.sk-item {position: relative;z-index: 1;}#sk-container-id-3 div.sk-parallel {display: flex;align-items: stretch;justify-content: center;background-color: white;position: relative;}#sk-container-id-3 div.sk-item::before, #sk-container-id-3 div.sk-parallel-item::before {content: \"\";position: absolute;border-left: 1px solid gray;box-sizing: border-box;top: 0;bottom: 0;left: 50%;z-index: -1;}#sk-container-id-3 div.sk-parallel-item {display: flex;flex-direction: column;z-index: 1;position: relative;background-color: white;}#sk-container-id-3 div.sk-parallel-item:first-child::after {align-self: flex-end;width: 50%;}#sk-container-id-3 div.sk-parallel-item:last-child::after {align-self: flex-start;width: 50%;}#sk-container-id-3 div.sk-parallel-item:only-child::after {width: 0;}#sk-container-id-3 div.sk-dashed-wrapped {border: 1px dashed gray;margin: 0 0.4em 0.5em 0.4em;box-sizing: border-box;padding-bottom: 0.4em;background-color: white;}#sk-container-id-3 div.sk-label label {font-family: monospace;font-weight: bold;display: inline-block;line-height: 1.2em;}#sk-container-id-3 div.sk-label-container {text-align: center;}#sk-container-id-3 div.sk-container {/* jupyter's `normalize.less` sets `[hidden] { display: none; }` but bootstrap.min.css set `[hidden] { display: none !important; }` so we also need the `!important` here to be able to override the default hidden behavior on the sphinx rendered scikit-learn.org. See: https://github.com/scikit-learn/scikit-learn/issues/21755 */display: inline-block !important;position: relative;}#sk-container-id-3 div.sk-text-repr-fallback {display: none;}</style><div id=\"sk-container-id-3\" class=\"sk-top-container\"><div class=\"sk-text-repr-fallback\"><pre>XGBClassifier(base_score=0.5, booster=&#x27;gbtree&#x27;, callbacks=None,\n",
       "              colsample_bylevel=1, colsample_bynode=1, colsample_bytree=1,\n",
       "              early_stopping_rounds=None, enable_categorical=False,\n",
       "              eval_metric=None, gamma=0, gpu_id=-1, grow_policy=&#x27;depthwise&#x27;,\n",
       "              importance_type=None, interaction_constraints=&#x27;&#x27;,\n",
       "              learning_rate=0.300000012, max_bin=256, max_cat_to_onehot=4,\n",
       "              max_delta_step=0, max_depth=6, max_leaves=0, min_child_weight=1,\n",
       "              missing=nan, monotone_constraints=&#x27;()&#x27;, n_estimators=100,\n",
       "              n_jobs=0, num_parallel_tree=1, predictor=&#x27;auto&#x27;, random_state=0,\n",
       "              reg_alpha=0, reg_lambda=1, ...)</pre><b>In a Jupyter environment, please rerun this cell to show the HTML representation or trust the notebook. <br />On GitHub, the HTML representation is unable to render, please try loading this page with nbviewer.org.</b></div><div class=\"sk-container\" hidden><div class=\"sk-item\"><div class=\"sk-estimator sk-toggleable\"><input class=\"sk-toggleable__control sk-hidden--visually\" id=\"sk-estimator-id-3\" type=\"checkbox\" checked><label for=\"sk-estimator-id-3\" class=\"sk-toggleable__label sk-toggleable__label-arrow\">XGBClassifier</label><div class=\"sk-toggleable__content\"><pre>XGBClassifier(base_score=0.5, booster=&#x27;gbtree&#x27;, callbacks=None,\n",
       "              colsample_bylevel=1, colsample_bynode=1, colsample_bytree=1,\n",
       "              early_stopping_rounds=None, enable_categorical=False,\n",
       "              eval_metric=None, gamma=0, gpu_id=-1, grow_policy=&#x27;depthwise&#x27;,\n",
       "              importance_type=None, interaction_constraints=&#x27;&#x27;,\n",
       "              learning_rate=0.300000012, max_bin=256, max_cat_to_onehot=4,\n",
       "              max_delta_step=0, max_depth=6, max_leaves=0, min_child_weight=1,\n",
       "              missing=nan, monotone_constraints=&#x27;()&#x27;, n_estimators=100,\n",
       "              n_jobs=0, num_parallel_tree=1, predictor=&#x27;auto&#x27;, random_state=0,\n",
       "              reg_alpha=0, reg_lambda=1, ...)</pre></div></div></div></div></div>"
      ],
      "text/plain": [
       "XGBClassifier(base_score=0.5, booster='gbtree', callbacks=None,\n",
       "              colsample_bylevel=1, colsample_bynode=1, colsample_bytree=1,\n",
       "              early_stopping_rounds=None, enable_categorical=False,\n",
       "              eval_metric=None, gamma=0, gpu_id=-1, grow_policy='depthwise',\n",
       "              importance_type=None, interaction_constraints='',\n",
       "              learning_rate=0.300000012, max_bin=256, max_cat_to_onehot=4,\n",
       "              max_delta_step=0, max_depth=6, max_leaves=0, min_child_weight=1,\n",
       "              missing=nan, monotone_constraints='()', n_estimators=100,\n",
       "              n_jobs=0, num_parallel_tree=1, predictor='auto', random_state=0,\n",
       "              reg_alpha=0, reg_lambda=1, ...)"
      ]
     },
     "execution_count": 34,
     "metadata": {},
     "output_type": "execute_result"
    }
   ],
   "source": [
    "# Train the model\n",
    "xgboost.fit(x_train, y_train)"
   ]
  },
  {
   "cell_type": "markdown",
   "id": "4602f55c",
   "metadata": {},
   "source": [
    "# Evaluating the model - XGBoost"
   ]
  },
  {
   "cell_type": "code",
   "execution_count": 35,
   "id": "9684583f",
   "metadata": {},
   "outputs": [],
   "source": [
    "# Build predictions\n",
    "predictions_xg = xgboost.predict(x_test)"
   ]
  },
  {
   "cell_type": "code",
   "execution_count": 36,
   "id": "b0269f40",
   "metadata": {},
   "outputs": [
    {
     "data": {
      "text/plain": [
       "0.780333525014376"
      ]
     },
     "execution_count": 36,
     "metadata": {},
     "output_type": "execute_result"
    }
   ],
   "source": [
    "# Calculate accuracy score\n",
    "accuracy_score(y_test, predictions_xg)"
   ]
  },
  {
   "cell_type": "code",
   "execution_count": 37,
   "id": "fd11617d",
   "metadata": {},
   "outputs": [
    {
     "data": {
      "text/plain": [
       "[Text(0, 0.5, 'Safe'), Text(0, 1.5, 'Transported')]"
      ]
     },
     "execution_count": 37,
     "metadata": {},
     "output_type": "execute_result"
    },
    {
     "data": {
      "image/png": "[encoded data removed]",
      "text/plain": [
       "<Figure size 432x288 with 1 Axes>"
      ]
     },
     "metadata": {
      "needs_background": "light"
     },
     "output_type": "display_data"
    }
   ],
   "source": [
    "# Build a confusion matrix of the results\n",
    "matrix_rf = confusion_matrix(y_test, predictions_xg)\n",
    "\n",
    "# Create pandas df\n",
    "cm_df_rf = pd.DataFrame(matrix_rf)\n",
    "\n",
    "# Create heatmap\n",
    "ax= plt.subplot()\n",
    "sns.heatmap(cm_df_rf, annot=True, cbar=None, cmap=\"Blues\", ax=ax)\n",
    "ax.set_title(\"XGBoost Confusion Matrix\")\n",
    "ax.set_ylabel(\"True Value\"), ax.set_xlabel(\"Predicted Value\")\n",
    "ax.xaxis.set_ticklabels(['Safe', 'Transported']); ax.yaxis.set_ticklabels(['Safe', 'Transported'])"
   ]
  },
  {
   "cell_type": "code",
   "execution_count": 38,
   "id": "caf163fb",
   "metadata": {
    "scrolled": true
   },
   "outputs": [
    {
     "data": {
      "text/html": [
       "<div>\n",
       "<style scoped>\n",
       "    .dataframe tbody tr th:only-of-type {\n",
       "        vertical-align: middle;\n",
       "    }\n",
       "\n",
       "    .dataframe tbody tr th {\n",
       "        vertical-align: top;\n",
       "    }\n",
       "\n",
       "    .dataframe thead th {\n",
       "        text-align: right;\n",
       "    }\n",
       "</style>\n",
       "<table border=\"1\" class=\"dataframe\">\n",
       "  <thead>\n",
       "    <tr style=\"text-align: right;\">\n",
       "      <th></th>\n",
       "      <th>CryoSleep</th>\n",
       "      <th>Age</th>\n",
       "      <th>VIP</th>\n",
       "      <th>RoomService</th>\n",
       "      <th>FoodCourt</th>\n",
       "      <th>ShoppingMall</th>\n",
       "      <th>Spa</th>\n",
       "      <th>VRDeck</th>\n",
       "      <th>Total Room Occupants</th>\n",
       "      <th>HomePlanet_Earth</th>\n",
       "      <th>...</th>\n",
       "      <th>Deck_A</th>\n",
       "      <th>Deck_B</th>\n",
       "      <th>Deck_C</th>\n",
       "      <th>Deck_D</th>\n",
       "      <th>Deck_E</th>\n",
       "      <th>Deck_F</th>\n",
       "      <th>Deck_G</th>\n",
       "      <th>Deck_T</th>\n",
       "      <th>Side_P</th>\n",
       "      <th>Side_S</th>\n",
       "    </tr>\n",
       "  </thead>\n",
       "  <tbody>\n",
       "    <tr>\n",
       "      <th>0</th>\n",
       "      <td>0.53914</td>\n",
       "      <td>0.009614</td>\n",
       "      <td>0.012023</td>\n",
       "      <td>0.016488</td>\n",
       "      <td>0.015436</td>\n",
       "      <td>0.012274</td>\n",
       "      <td>0.01696</td>\n",
       "      <td>0.019457</td>\n",
       "      <td>0.005809</td>\n",
       "      <td>0.127726</td>\n",
       "      <td>...</td>\n",
       "      <td>0.006849</td>\n",
       "      <td>0.009496</td>\n",
       "      <td>0.016798</td>\n",
       "      <td>0.006293</td>\n",
       "      <td>0.030463</td>\n",
       "      <td>0.012651</td>\n",
       "      <td>0.019519</td>\n",
       "      <td>0.0</td>\n",
       "      <td>0.01082</td>\n",
       "      <td>0.016227</td>\n",
       "    </tr>\n",
       "  </tbody>\n",
       "</table>\n",
       "<p>1 rows × 25 columns</p>\n",
       "</div>"
      ],
      "text/plain": [
       "   CryoSleep       Age       VIP  RoomService  FoodCourt  ShoppingMall  \\\n",
       "0    0.53914  0.009614  0.012023     0.016488   0.015436      0.012274   \n",
       "\n",
       "       Spa    VRDeck  Total Room Occupants  HomePlanet_Earth  ...    Deck_A  \\\n",
       "0  0.01696  0.019457              0.005809          0.127726  ...  0.006849   \n",
       "\n",
       "     Deck_B    Deck_C    Deck_D    Deck_E    Deck_F    Deck_G  Deck_T  \\\n",
       "0  0.009496  0.016798  0.006293  0.030463  0.012651  0.019519     0.0   \n",
       "\n",
       "    Side_P    Side_S  \n",
       "0  0.01082  0.016227  \n",
       "\n",
       "[1 rows x 25 columns]"
      ]
     },
     "execution_count": 38,
     "metadata": {},
     "output_type": "execute_result"
    }
   ],
   "source": [
    "pd.DataFrame(xgboost.feature_importances_.reshape(1,-1), columns=x_train.columns)"
   ]
  },
  {
   "cell_type": "markdown",
   "id": "17be60fd",
   "metadata": {},
   "source": [
    "# Combining the models"
   ]
  },
  {
   "cell_type": "code",
   "execution_count": 39,
   "id": "69bd5d8f",
   "metadata": {},
   "outputs": [],
   "source": [
    "# Create average prediction\n",
    "average_pred = (predictions_xg + predictions_rf + predictions) / 3"
   ]
  },
  {
   "cell_type": "code",
   "execution_count": 40,
   "id": "2d68c12c",
   "metadata": {},
   "outputs": [],
   "source": [
    "# Round to nearest int\n",
    "average_pred = [round(num) for num in average_pred]"
   ]
  },
  {
   "cell_type": "code",
   "execution_count": 41,
   "id": "ecb38a26",
   "metadata": {},
   "outputs": [
    {
     "data": {
      "text/plain": [
       "0.7987349051178838"
      ]
     },
     "execution_count": 41,
     "metadata": {},
     "output_type": "execute_result"
    }
   ],
   "source": [
    "# Calculate accuracy score\n",
    "accuracy_score(y_test, average_pred)"
   ]
  },
  {
   "cell_type": "markdown",
   "id": "b94c7082",
   "metadata": {},
   "source": [
    "The average is 79.9% accurate, an increase of .6% from the best model"
   ]
  },
  {
   "cell_type": "code",
   "execution_count": 42,
   "id": "38e25ef8",
   "metadata": {},
   "outputs": [
    {
     "data": {
      "text/plain": [
       "[Text(0, 0.5, 'Safe'), Text(0, 1.5, 'Transported')]"
      ]
     },
     "execution_count": 42,
     "metadata": {},
     "output_type": "execute_result"
    },
    {
     "data": {
      "image/png": "[encoded data removed]",
      "text/plain": [
       "<Figure size 432x288 with 1 Axes>"
      ]
     },
     "metadata": {
      "needs_background": "light"
     },
     "output_type": "display_data"
    }
   ],
   "source": [
    "# Build a confusion matrix of the results\n",
    "matrix_rf = confusion_matrix(y_test, average_pred)\n",
    "\n",
    "# Create pandas df\n",
    "cm_df_rf = pd.DataFrame(matrix_rf)\n",
    "\n",
    "# Create heatmap\n",
    "ax= plt.subplot()\n",
    "sns.heatmap(cm_df_rf, annot=True, cbar=None, cmap=\"Blues\", ax=ax)\n",
    "ax.set_title(\"Combined Confusion Matrix\")\n",
    "ax.set_ylabel(\"True Value\"), ax.set_xlabel(\"Predicted Value\")\n",
    "ax.xaxis.set_ticklabels(['Safe', 'Transported']); ax.yaxis.set_ticklabels(['Safe', 'Transported'])"
   ]
  },
  {
   "cell_type": "markdown",
   "id": "2c6f7d76",
   "metadata": {},
   "source": [
    "# Build test dataset predictions"
   ]
  },
  {
   "cell_type": "code",
   "execution_count": 77,
   "id": "f2aa3e32",
   "metadata": {},
   "outputs": [],
   "source": [
    "# Load datasets\n",
    "test_df = pd.read_csv('Data/test.csv')"
   ]
  },
  {
   "cell_type": "code",
   "execution_count": 78,
   "id": "cc479d03",
   "metadata": {},
   "outputs": [
    {
     "data": {
      "text/html": [
       "<div>\n",
       "<style scoped>\n",
       "    .dataframe tbody tr th:only-of-type {\n",
       "        vertical-align: middle;\n",
       "    }\n",
       "\n",
       "    .dataframe tbody tr th {\n",
       "        vertical-align: top;\n",
       "    }\n",
       "\n",
       "    .dataframe thead th {\n",
       "        text-align: right;\n",
       "    }\n",
       "</style>\n",
       "<table border=\"1\" class=\"dataframe\">\n",
       "  <thead>\n",
       "    <tr style=\"text-align: right;\">\n",
       "      <th></th>\n",
       "      <th>PassengerId</th>\n",
       "      <th>HomePlanet</th>\n",
       "      <th>CryoSleep</th>\n",
       "      <th>Cabin</th>\n",
       "      <th>Destination</th>\n",
       "      <th>Age</th>\n",
       "      <th>VIP</th>\n",
       "      <th>RoomService</th>\n",
       "      <th>FoodCourt</th>\n",
       "      <th>ShoppingMall</th>\n",
       "      <th>Spa</th>\n",
       "      <th>VRDeck</th>\n",
       "      <th>Name</th>\n",
       "    </tr>\n",
       "  </thead>\n",
       "  <tbody>\n",
       "    <tr>\n",
       "      <th>0</th>\n",
       "      <td>0013_01</td>\n",
       "      <td>Earth</td>\n",
       "      <td>True</td>\n",
       "      <td>G/3/S</td>\n",
       "      <td>TRAPPIST-1e</td>\n",
       "      <td>27.0</td>\n",
       "      <td>False</td>\n",
       "      <td>0.0</td>\n",
       "      <td>0.0</td>\n",
       "      <td>0.0</td>\n",
       "      <td>0.0</td>\n",
       "      <td>0.0</td>\n",
       "      <td>Nelly Carsoning</td>\n",
       "    </tr>\n",
       "    <tr>\n",
       "      <th>1</th>\n",
       "      <td>0018_01</td>\n",
       "      <td>Earth</td>\n",
       "      <td>False</td>\n",
       "      <td>F/4/S</td>\n",
       "      <td>TRAPPIST-1e</td>\n",
       "      <td>19.0</td>\n",
       "      <td>False</td>\n",
       "      <td>0.0</td>\n",
       "      <td>9.0</td>\n",
       "      <td>0.0</td>\n",
       "      <td>2823.0</td>\n",
       "      <td>0.0</td>\n",
       "      <td>Lerome Peckers</td>\n",
       "    </tr>\n",
       "    <tr>\n",
       "      <th>2</th>\n",
       "      <td>0019_01</td>\n",
       "      <td>Europa</td>\n",
       "      <td>True</td>\n",
       "      <td>C/0/S</td>\n",
       "      <td>55 Cancri e</td>\n",
       "      <td>31.0</td>\n",
       "      <td>False</td>\n",
       "      <td>0.0</td>\n",
       "      <td>0.0</td>\n",
       "      <td>0.0</td>\n",
       "      <td>0.0</td>\n",
       "      <td>0.0</td>\n",
       "      <td>Sabih Unhearfus</td>\n",
       "    </tr>\n",
       "    <tr>\n",
       "      <th>3</th>\n",
       "      <td>0021_01</td>\n",
       "      <td>Europa</td>\n",
       "      <td>False</td>\n",
       "      <td>C/1/S</td>\n",
       "      <td>TRAPPIST-1e</td>\n",
       "      <td>38.0</td>\n",
       "      <td>False</td>\n",
       "      <td>0.0</td>\n",
       "      <td>6652.0</td>\n",
       "      <td>0.0</td>\n",
       "      <td>181.0</td>\n",
       "      <td>585.0</td>\n",
       "      <td>Meratz Caltilter</td>\n",
       "    </tr>\n",
       "    <tr>\n",
       "      <th>4</th>\n",
       "      <td>0023_01</td>\n",
       "      <td>Earth</td>\n",
       "      <td>False</td>\n",
       "      <td>F/5/S</td>\n",
       "      <td>TRAPPIST-1e</td>\n",
       "      <td>20.0</td>\n",
       "      <td>False</td>\n",
       "      <td>10.0</td>\n",
       "      <td>0.0</td>\n",
       "      <td>635.0</td>\n",
       "      <td>0.0</td>\n",
       "      <td>0.0</td>\n",
       "      <td>Brence Harperez</td>\n",
       "    </tr>\n",
       "  </tbody>\n",
       "</table>\n",
       "</div>"
      ],
      "text/plain": [
       "  PassengerId HomePlanet CryoSleep  Cabin  Destination   Age    VIP  \\\n",
       "0     0013_01      Earth      True  G/3/S  TRAPPIST-1e  27.0  False   \n",
       "1     0018_01      Earth     False  F/4/S  TRAPPIST-1e  19.0  False   \n",
       "2     0019_01     Europa      True  C/0/S  55 Cancri e  31.0  False   \n",
       "3     0021_01     Europa     False  C/1/S  TRAPPIST-1e  38.0  False   \n",
       "4     0023_01      Earth     False  F/5/S  TRAPPIST-1e  20.0  False   \n",
       "\n",
       "   RoomService  FoodCourt  ShoppingMall     Spa  VRDeck              Name  \n",
       "0          0.0        0.0           0.0     0.0     0.0   Nelly Carsoning  \n",
       "1          0.0        9.0           0.0  2823.0     0.0    Lerome Peckers  \n",
       "2          0.0        0.0           0.0     0.0     0.0   Sabih Unhearfus  \n",
       "3          0.0     6652.0           0.0   181.0   585.0  Meratz Caltilter  \n",
       "4         10.0        0.0         635.0     0.0     0.0   Brence Harperez  "
      ]
     },
     "execution_count": 78,
     "metadata": {},
     "output_type": "execute_result"
    }
   ],
   "source": [
    "# View the dataframe\n",
    "test_df.head(5)"
   ]
  },
  {
   "cell_type": "code",
   "execution_count": 79,
   "id": "33ea5d21",
   "metadata": {},
   "outputs": [],
   "source": [
    "# Extract PassengerIDs\n",
    "PassengerId = test_df['PassengerId']"
   ]
  },
  {
   "cell_type": "code",
   "execution_count": 61,
   "id": "476a5d57",
   "metadata": {},
   "outputs": [],
   "source": [
    "# Fill nulls in age feature with mean\n",
    "test_df['Age'] = test_df['Age'].fillna(mean_age)"
   ]
  },
  {
   "cell_type": "code",
   "execution_count": 62,
   "id": "52bb878d",
   "metadata": {},
   "outputs": [],
   "source": [
    "# Replace NAs\n",
    "test_df['RoomService'] = test_df['RoomService'].fillna(0)\n",
    "test_df['FoodCourt'] = test_df['FoodCourt'].fillna(0)\n",
    "test_df['ShoppingMall'] = test_df['ShoppingMall'].fillna(0)\n",
    "test_df['Spa'] = test_df['Spa'].fillna(0)\n",
    "test_df['VRDeck'] = test_df['VRDeck'].fillna(0)\n",
    "test_df['VIP'] = test_df['VIP'].fillna(False)\n",
    "test_df['CryoSleep'] = test_df['CryoSleep'].fillna(False)"
   ]
  },
  {
   "cell_type": "code",
   "execution_count": 63,
   "id": "f695bccd",
   "metadata": {},
   "outputs": [],
   "source": [
    "# Extract the deck information\n",
    "test_df['Deck'] = test_df['Cabin'].str[:1]\n",
    "\n",
    "# Extract the side (port/starboard) information\n",
    "test_df['Side'] = test_df['Cabin'].str[-1:]"
   ]
  },
  {
   "cell_type": "code",
   "execution_count": 64,
   "id": "44078d1a",
   "metadata": {},
   "outputs": [],
   "source": [
    "# Drop the cabin feature\n",
    "test_df = test_df.drop(['Cabin'], axis=1)"
   ]
  },
  {
   "cell_type": "code",
   "execution_count": 65,
   "id": "b47654b9",
   "metadata": {},
   "outputs": [],
   "source": [
    "# Recode True/False\n",
    "test_df.replace({False: 0, True: 1, 'False':0}, inplace=True)"
   ]
  },
  {
   "cell_type": "code",
   "execution_count": 66,
   "id": "bc30b792",
   "metadata": {},
   "outputs": [],
   "source": [
    "# Obtain GroupId\n",
    "test_df['GroupId'] = test_df['PassengerId'].str[:4]"
   ]
  },
  {
   "cell_type": "code",
   "execution_count": 67,
   "id": "c8845283",
   "metadata": {},
   "outputs": [],
   "source": [
    "# Extract counts by GroupID\n",
    "test_df_counts = pd.DataFrame(test_df['GroupId'].value_counts())\n",
    "test_df_counts.reset_index(inplace=True)\n",
    "test_df_counts = test_df_counts.rename(columns = {'index':'GroupId', 'GroupId':'Total Room Occupants'})\n",
    "test_df_counts['GroupId'] = test_df_counts['GroupId'].astype(object)"
   ]
  },
  {
   "cell_type": "code",
   "execution_count": 68,
   "id": "6d1aa182",
   "metadata": {},
   "outputs": [],
   "source": [
    "# Merge Total Room Occupants data with df\n",
    "test_df = test_df.merge(test_df_counts, on='GroupId', how='left')"
   ]
  },
  {
   "cell_type": "markdown",
   "id": "139c641f",
   "metadata": {},
   "source": [
    "Note: No group ids exist in both the test and training datasets."
   ]
  },
  {
   "cell_type": "code",
   "execution_count": 69,
   "id": "56251ad5",
   "metadata": {},
   "outputs": [],
   "source": [
    "# Drop unneeded features\n",
    "test_df = test_df.drop(['PassengerId', 'GroupId', 'Name'], axis=1)"
   ]
  },
  {
   "cell_type": "code",
   "execution_count": 70,
   "id": "87c7cbbe",
   "metadata": {},
   "outputs": [],
   "source": [
    "# Get dummy variables\n",
    "test_df = pd.get_dummies(test_df)"
   ]
  },
  {
   "cell_type": "code",
   "execution_count": 71,
   "id": "a14bfe81",
   "metadata": {},
   "outputs": [
    {
     "data": {
      "text/plain": [
       "CryoSleep                    0\n",
       "Age                          0\n",
       "VIP                          0\n",
       "RoomService                  0\n",
       "FoodCourt                    0\n",
       "ShoppingMall                 0\n",
       "Spa                          0\n",
       "VRDeck                       0\n",
       "Transported                  0\n",
       "Total Room Occupants         0\n",
       "HomePlanet_Earth             0\n",
       "HomePlanet_Europa            0\n",
       "HomePlanet_Mars              0\n",
       "Destination_55 Cancri e      0\n",
       "Destination_PSO J318.5-22    0\n",
       "Destination_TRAPPIST-1e      0\n",
       "Deck_A                       0\n",
       "Deck_B                       0\n",
       "Deck_C                       0\n",
       "Deck_D                       0\n",
       "Deck_E                       0\n",
       "Deck_F                       0\n",
       "Deck_G                       0\n",
       "Deck_T                       0\n",
       "Side_P                       0\n",
       "Side_S                       0\n",
       "dtype: int64"
      ]
     },
     "execution_count": 71,
     "metadata": {},
     "output_type": "execute_result"
    }
   ],
   "source": [
    "# Check for nulls\n",
    "df.isnull().sum()"
   ]
  },
  {
   "cell_type": "code",
   "execution_count": 72,
   "id": "e064229b",
   "metadata": {},
   "outputs": [],
   "source": [
    "# Build logistic regression predictions\n",
    "test_lr_pred = model.predict(test_df)"
   ]
  },
  {
   "cell_type": "code",
   "execution_count": 74,
   "id": "a2419ed7",
   "metadata": {},
   "outputs": [],
   "source": [
    "# Build random forest predictions\n",
    "test_rf_pred = rf.predict(test_df)"
   ]
  },
  {
   "cell_type": "code",
   "execution_count": 75,
   "id": "3b4b2ccc",
   "metadata": {},
   "outputs": [],
   "source": [
    "# Build xgboost predictions\n",
    "test_xg_pred = xgboost.predict(test_df)"
   ]
  },
  {
   "cell_type": "code",
   "execution_count": 100,
   "id": "f7bdb48d",
   "metadata": {},
   "outputs": [],
   "source": [
    "# Create average prediction\n",
    "test_ave_pred = (test_lr_pred + test_rf_pred + test_xg_pred) / 3\n",
    "\n",
    "# Round to nearest int\n",
    "test_ave_pred = [round(num) for num in test_ave_pred]"
   ]
  },
  {
   "cell_type": "markdown",
   "id": "7906ef7e",
   "metadata": {},
   "source": [
    "# Save predictions"
   ]
  },
  {
   "cell_type": "code",
   "execution_count": 96,
   "id": "ac9781c3",
   "metadata": {},
   "outputs": [],
   "source": [
    "# Build Logistic Regression Dataframe\n",
    "lr_df = pd.DataFrame(columns=['PassengerId', 'Transported'])\n",
    "\n",
    "# Set Transported\n",
    "lr_df['Transported'] = test_lr_pred\n",
    "\n",
    "# Set PassengerID\n",
    "lr_df['PassengerId'] = PassengerId\n",
    "\n",
    "# Recode results\n",
    "lr_df.replace({0: False, 1: True}, inplace=True)\n",
    "\n",
    "# Save to csv\n",
    "lr_df.to_csv('Predictions/logistic_regression.csv', index=False)"
   ]
  },
  {
   "cell_type": "code",
   "execution_count": 97,
   "id": "1b458e42",
   "metadata": {},
   "outputs": [],
   "source": [
    "# Build Random Forest Dataframe\n",
    "rf_df = pd.DataFrame(columns=['PassengerId', 'Transported'])\n",
    "\n",
    "# Set Transported\n",
    "rf_df['Transported'] = test_rf_pred\n",
    "\n",
    "# Set PassengerID\n",
    "rf_df['PassengerId'] = PassengerId\n",
    "\n",
    "# Recode results\n",
    "rf_df.replace({0: False, 1: True}, inplace=True)\n",
    "\n",
    "# Save to csv\n",
    "rf_df.to_csv('Predictions/random_forest.csv', index=False)"
   ]
  },
  {
   "cell_type": "code",
   "execution_count": 98,
   "id": "afae87c8",
   "metadata": {},
   "outputs": [],
   "source": [
    "# Build XGBoost Dataframe\n",
    "xg_df = pd.DataFrame(columns=['PassengerId', 'Transported'])\n",
    "\n",
    "# Set Transported\n",
    "xg_df['Transported'] = test_xg_pred\n",
    "\n",
    "# Set PassengerID\n",
    "xg_df['PassengerId'] = PassengerId\n",
    "\n",
    "# Recode results\n",
    "xg_df.replace({0: False, 1: True}, inplace=True)\n",
    "\n",
    "# Save to csv\n",
    "xg_df.to_csv('Predictions/xgboost.csv', index=False)"
   ]
  },
  {
   "cell_type": "code",
   "execution_count": 101,
   "id": "6b8793d2",
   "metadata": {},
   "outputs": [],
   "source": [
    "# Build Combined Dataframe\n",
    "c_df = pd.DataFrame(columns=['PassengerId', 'Transported'])\n",
    "\n",
    "# Set Transported\n",
    "c_df['Transported'] = test_ave_pred\n",
    "\n",
    "# Set PassengerID\n",
    "c_df['PassengerId'] = PassengerId\n",
    "\n",
    "# Recode results\n",
    "c_df.replace({0: False, 1: True}, inplace=True)\n",
    "\n",
    "# Save to csv\n",
    "c_df.to_csv('Predictions/combined.csv', index=False)"
   ]
  }
 ],
 "metadata": {
  "kernelspec": {
   "display_name": "Python 3",
   "language": "python",
   "name": "python3"
  },
  "language_info": {
   "codemirror_mode": {
    "name": "ipython",
    "version": 3
   },
   "file_extension": ".py",
   "mimetype": "text/x-python",
   "name": "python",
   "nbconvert_exporter": "python",
   "pygments_lexer": "ipython3",
   "version": "3.8.8"
  }
 },
 "nbformat": 4,
 "nbformat_minor": 5
}
